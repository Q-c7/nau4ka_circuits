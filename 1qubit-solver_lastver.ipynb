{
 "cells": [
  {
   "cell_type": "markdown",
   "metadata": {},
   "source": [
    "## Basic functions"
   ]
  },
  {
   "cell_type": "code",
   "execution_count": 1,
   "metadata": {},
   "outputs": [],
   "source": [
    "import tensorflow as tf  # tf 2.x\n",
    "import matplotlib.pyplot as plt\n",
    "import math\n",
    "import cmath\n",
    "import numpy as np\n",
    "from numpy.random import choice\n",
    "\n",
    "try:\n",
    "    import QGOpt as qgo\n",
    "except ImportError:\n",
    "    !pip install git+https://github.com/LuchnikovI/QGOpt\n",
    "    import QGOpt as qgo"
   ]
  },
  {
   "cell_type": "code",
   "execution_count": 2,
   "metadata": {},
   "outputs": [],
   "source": [
    "def matr_Ry(angle):\n",
    "    return tf.constant([[math.cos(angle/2), -math.sin(angle/2)],\n",
    "                        [+math.sin(angle/2), math.cos(angle/2)]], dtype=tf.complex64)\n",
    "\n",
    "def matr_Rx(angle):\n",
    "    return tf.constant([[math.cos(angle/2) + 0j, -1j * math.sin(angle/2)],\n",
    "                        [-1j * math.sin(angle/2), math.cos(angle/2) + 0j]], dtype=tf.complex64)\n",
    "\n",
    "def matr_Rz(angle):\n",
    "    return tf.constant([[math.cos(angle/2) -1j * math.sin(angle/2), 0],\n",
    "                        [0, math.cos(angle/2) + 1j * math.sin(angle/2)]], dtype=tf.complex64)\n",
    "\n",
    "Hadamard = tf.constant([[1, 1],\n",
    "                        [1, -1]], dtype=tf.complex64) / math.sqrt(2)"
   ]
  },
  {
   "cell_type": "code",
   "execution_count": 3,
   "metadata": {},
   "outputs": [],
   "source": [
    "@tf.function\n",
    "def kron(A, B):\n",
    "    \"\"\"\n",
    "    Returns Kronecker product of two square matrices.\n",
    "\n",
    "    Args:\n",
    "        A: complex valued tf tensor of shape (dim1, dim1)\n",
    "        B: complex valued tf tensor of shape (dim2, dim2)\n",
    "\n",
    "    Returns:\n",
    "        complex valued tf tensor of shape (dim1 * dim2, dim1 * dim2),\n",
    "        kronecker product of two matrices\n",
    "    \"\"\"\n",
    "\n",
    "    dim1 = A.shape[-1]\n",
    "    dim2 = B.shape[-1]\n",
    "    AB = tf.transpose(tf.tensordot(A, B, axes=0), (0, 2, 1, 3))\n",
    "    return tf.reshape(AB, (dim1 * dim2, dim1 * dim2))"
   ]
  },
  {
   "cell_type": "code",
   "execution_count": 4,
   "metadata": {},
   "outputs": [],
   "source": [
    "def reveal_cal_parameters(M):\n",
    "    angle = cmath.phase(M[1, 0]) \n",
    "    flipped = True if (tf.math.imag(M[1, 1]) < 0) else False\n",
    "    return angle, flipped\n",
    "\n",
    "def get_more_precise_angle(M):\n",
    "    angles = []\n",
    "    angles.append(cmath.phase(M[1, 0]))\n",
    "    angles.append(cmath.phase(-M[1, 3]))\n",
    "    angles.append(cmath.phase(-M[0, 2] * 1j))\n",
    "    angles.append(cmath.phase(M[3, 2] * 1j))\n",
    "    angles.append(-cmath.phase(M[2, 0]))\n",
    "    angles.append(-cmath.phase(-M[2, 3]))\n",
    "    angles.append(-cmath.phase(M[0, 1] * 1j))\n",
    "    angles.append(-cmath.phase(-M[3, 1] * 1j))\n",
    "    angles.append(cmath.phase(-M[1, 2] * 1j)/2)\n",
    "    angles.append(-cmath.phase(M[2, 1] * 1j)/2)\n",
    "    #print(angles)\n",
    "    return np.mean(angles)\n",
    "\n",
    "def rotate_set(M_set, angle, flip):\n",
    "    if (flip == True): #Remember, in flipped scenario angle comes with '-' sign\n",
    "        M_set = np.conj(M_set) #but if U = [Rz1 @ U0* @ Rz2] that means U* = [Rz1* @ U0 @ Rz2*] and angles here are reversed too\n",
    "    new_M_set = tf.concat([matr_Rz(angle) @ M_set[i] @ matr_Rz(-angle) [tf.newaxis] for i in np.arange(0, len(M_set))], axis=0)\n",
    "    return new_M_set    \n",
    "\n",
    "def calibrate_set(M_set):\n",
    "    A = M_set[0] @ M_set[1]\n",
    "    AxA = 2 * kron(A, tf.math.conj(A)) #AxA actually means AxA*\n",
    "    angle0, flip = reveal_cal_parameters(AxA)\n",
    "    if (flip): \n",
    "        AxA = tf.math.conj(AxA)\n",
    "    angle1 = get_more_precise_angle(AxA) #angle is reversed if we need to complex conjugate because we made CONJ on UxU \n",
    "    #CONJ on flipped UxU* is CONJ on ([Rz1 @ U0* @ Rz2] x [Rz1* @ U0 @ Rz2*]]) = [Rz1* @ U0 @ Rz2*] x [Rz1 @ U0* @ Rz2]]\n",
    "    #Because the procedure is trained on U0, this is easier but yields a minus sign\n",
    "    \n",
    "    #print(angle1, flip) \n",
    "\n",
    "    #Solution: one more \"if\" which makes angle1 = -angle1 if (flip). It is for the weak AND does not work properly\n",
    "    new_U_set = rotate_set(M_set, angle1, flip) #the strong account for reversed angle inside calibration function  \n",
    "    return new_U_set"
   ]
  },
  {
   "cell_type": "code",
   "execution_count": 5,
   "metadata": {},
   "outputs": [
    {
     "data": {
      "text/plain": [
       "'\\nThis is a \"pure\" set of gates which exist in our mathematical model.\\nThey are considered pure in a sense that they have no noise at all. \\nAny circuits the user runs on his quantum computer must contain only gates described here.\\nHowever, due to imperfectons his version of the same set can be different.\\nFuthermore, in the future versions we should note that each qubit can have its own \"noised\" versions. \\n'"
      ]
     },
     "execution_count": 5,
     "metadata": {},
     "output_type": "execute_result"
    }
   ],
   "source": [
    "pure_unitary_set = tf.concat([Hadamard[tf.newaxis],\n",
    "                                  matr_Rz(math.pi/2)[tf.newaxis],\n",
    "                                  matr_Rz(math.pi/4)[tf.newaxis]], axis=0)\n",
    "\n",
    "#matr_Rz(math.pi/2.8)[tf.newaxis],\n",
    "#matr_Rz(math.pi/4.1)[tf.newaxis]\n",
    "\n",
    "\"\"\"\n",
    "This is a \"pure\" set of gates which exist in our mathematical model.\n",
    "They are considered pure in a sense that they have no noise at all. \n",
    "Any circuits the user runs on his quantum computer must contain only gates described here.\n",
    "However, due to imperfectons his version of the same set can be different.\n",
    "Futhermore, in the future versions we should note that each qubit can have its own \"noised\" versions. \n",
    "\"\"\""
   ]
  },
  {
   "cell_type": "code",
   "execution_count": 6,
   "metadata": {},
   "outputs": [],
   "source": [
    "def build_circuit_state_from_map(circ_map, gate_set):\n",
    "    \"\"\"\n",
    "    Returns a quantum state which is obtained after \"pulling\" state |0> through a circuit.\n",
    "    Because circuits consist of one-qubit gates, we can multiply matrices on a |0> state one by one.\n",
    "    \n",
    "    Args:\n",
    "        circ_map: is an array of ints defining our circuit.\n",
    "        Since we have a fixed set of gates, each gate is defined by an integer.\n",
    "        \n",
    "        gate_set: is a set of gates we use to build a circuit upon.\n",
    "        Each gate is a 2x2 complex-valued matrix and can be adressed as gate_set[gate_id]\n",
    "        \n",
    "    Returns:\n",
    "        in_state: the final state we get after circuit (|psi> = Un * ... * U1 |0>) \n",
    "    \"\"\"\n",
    "    \n",
    "    in_state = tf.constant([1, 0], dtype=tf.complex64)\n",
    "    for gate_id in circ_map[::-1]:\n",
    "        in_state = tf.tensordot(gate_set[gate_id], in_state, axes=1)\n",
    "    return in_state"
   ]
  },
  {
   "cell_type": "code",
   "execution_count": 7,
   "metadata": {},
   "outputs": [],
   "source": [
    "PauliY = tf.constant([[0 + 0j, -1j],\n",
    "            [1j, 0 + 0j]], dtype=tf.complex64)\n",
    "PauliX = tf.constant([[0 + 0j, 1 + 0j],\n",
    "              [1 + 0j, 0 + 0j]], dtype=tf.complex64)\n",
    "PauliZ = tf.constant([[1 + 0j, 0 + 0j],\n",
    "              [0 + 0j, -1 + 0j]], dtype=tf.complex64)\n",
    "E = tf.eye(2, dtype=tf.complex64)\n",
    "\n",
    "def wrong_unitary(M):\n",
    "    pE = tf.dtypes.complex(tf.random.uniform([], -0.2, 0.2, dtype=tf.dtypes.float32, seed=123), 0.0)\n",
    "    pX = tf.dtypes.complex(tf.random.uniform([], -0.1, 0.1, dtype=tf.dtypes.float32, seed=123), 0.0)\n",
    "    pY = tf.dtypes.complex(tf.random.uniform([], -0.1, 0.1, dtype=tf.dtypes.float32, seed=123), 0.0)\n",
    "    pZ = tf.dtypes.complex(tf.random.uniform([], -0.1, 0.1, dtype=tf.dtypes.float32, seed=123), 0.0)\n",
    "    print (\"Noising is made by exp(iH) @ U; H =\",round(float(pE), 5) ,\"E +\",round(float(pX), 5), \"X +\",round(float(pY), 5), \"Y +\",round(float(pZ), 5),\"Z\")\n",
    "    H = pE * E + pX * PauliX + pY * PauliY + pZ * PauliZ\n",
    "    return tf.linalg.expm(H * 1j) @ M \n",
    "\n",
    "def roll_noising_parameters(seed1):\n",
    "    pE = tf.dtypes.complex(tf.random.uniform([], -0.4, 0.4, dtype=tf.dtypes.float32, seed=seed1), 0.0)\n",
    "    pX = tf.dtypes.complex(tf.random.uniform([], -0.2, 0.2, dtype=tf.dtypes.float32, seed=seed1), 0.0)\n",
    "    pY = tf.dtypes.complex(tf.random.uniform([], -0.2, 0.2, dtype=tf.dtypes.float32, seed=seed1), 0.0)\n",
    "    pZ = tf.dtypes.complex(tf.random.uniform([], -0.2, 0.2, dtype=tf.dtypes.float32, seed=seed1), 0.0)\n",
    "\n",
    "    return pE, pX, pY, pZ\n",
    "\n",
    "def wrong_unitary_fixed(M, pE_fix, pX_fix, pY_fix, pZ_fix):\n",
    "    #print (\"Noising is made by exp(iH) @ U; H =\",round(float(pE_fix), 5) ,\"E +\",round(float(pX_fix), 5), \"X +\",round(float(pY_fix), 5), \"Y +\",round(float(pZ_fix), 5),\"Z\")\n",
    "    H = pE_fix * E + pX_fix * PauliX + pY_fix * PauliY + pZ_fix * PauliZ\n",
    "    return tf.linalg.expm(H * 1j) @ M \n",
    "\n",
    "def wrong_unitaries_random(pure_unitary_set):\n",
    "    new_set = tf.concat([wrong_unitary(pure_unitary_set[i])[tf.newaxis] for i in range (pure_unitary_set.shape[0])], axis=0)\n",
    "    return new_set"
   ]
  },
  {
   "cell_type": "code",
   "execution_count": 8,
   "metadata": {},
   "outputs": [],
   "source": [
    "tf.random.set_seed(2228)"
   ]
  },
  {
   "cell_type": "code",
   "execution_count": 9,
   "metadata": {},
   "outputs": [],
   "source": [
    "pE_fix, pX_fix, pY_fix, pZ_fix = roll_noising_parameters(228)"
   ]
  },
  {
   "cell_type": "markdown",
   "metadata": {},
   "source": [
    "## Classes"
   ]
  },
  {
   "cell_type": "code",
   "execution_count": 10,
   "metadata": {},
   "outputs": [],
   "source": [
    "class MeasurementData:\n",
    "    \"\"\"\n",
    "    This is a class which describes the situation on the user's quantum PC.\n",
    "    It contains some of the information the user should give us (e. g. samples).\n",
    "    Also this class contains the information we should have no knowledge about (e.g. hidden_set).\n",
    "    However, it is used just for sample generation purposes and is not used in the algorithm. \n",
    "    \n",
    "    Attributes:\n",
    "        hidden_set: is a set of gates the user has in their quantum computer.\n",
    "        They are the \"real\" versions of gates, and can be considered as our aim.\n",
    "        After some iterations of optimizers, we want our gates to be almost like \"real\" versions.\n",
    "        Again, each gate is a 2x2 complex-valued matrix.\n",
    "        \n",
    "        noisy_gate: in our test model, one of our gates is bluntly replaced by Id matrix.\n",
    "        The number defines which one was replaced. \n",
    "        \n",
    "        samples: a huge 2D array of bits. Let us have M circuits and N runs of each. \n",
    "        The 'samples' array will be of shape (M, N), containing measurement results.\n",
    "        For each of M circuits, N runs are made and measured, yielding 0 or 1 in the end.        \n",
    "        \n",
    "    Functions:\n",
    "        generate_samples: The procedure of generating N outputs after N runs of all circuits.\n",
    "        init_gates: The procedure of applying some kind of a noise to simulate user's noised version of gates [demo]\n",
    "    \"\"\"\n",
    "       \n",
    "    def __init__(self, circs_map, noisy_gate, pure_unitary_set):\n",
    "        self.hidden_set = None\n",
    "        self.noisy_gate = noisy_gate\n",
    "        self.init_gates(self.noisy_gate, pure_unitary_set)\n",
    "        \n",
    "        self.samples = None\n",
    "        self.generate_samples(circs_map, self.hidden_set, 10000)\n",
    "        \n",
    "    def generate_samples(self, circs_map, gate_set, smpl_size=10000):\n",
    "        \"\"\"\n",
    "        Generates samples for each circuit depicted in a 'circs_map' array.\n",
    "        Uses 'gate_set' to transform map of ints into actal gates and build a state upon them\n",
    "        \n",
    "        Args:\n",
    "            circ_maps: is a list of arrays of ints, each array defining one of our circuits.\n",
    "        \n",
    "            gate_set: is a set of gates we use to build a circuit.\n",
    "        \n",
    "            smpl_size: number of measurements made per one circuit.\n",
    "        \n",
    "        Returns:\n",
    "            actually does not return anything, but generates 'samples' for an instance of class.\n",
    "            'samples' is a big 2D array, see class description.\n",
    "        \"\"\"\n",
    "        samples = []\n",
    "        for circ_map in circs_map:\n",
    "            state = build_circuit_state_from_map(circ_map, gate_set)\n",
    "            log_probs = tf.math.log(tf.abs(state) ** 2)\n",
    "            eps = -tf.math.log(-tf.math.log(tf.random.uniform((smpl_size, 2)))) #OMG\n",
    "            samples.append(tf.argmax(log_probs + eps, axis = -1))\n",
    "        self.samples = samples\n",
    "        \n",
    "    def init_gates(self, noisy_id, pure_unitary_set):\n",
    "        \"\"\"\n",
    "        Initializes \"true\" versions of noised gates. WIP.\n",
    "        \n",
    "        Args:\n",
    "            pure_unitary_set: the \"ideal\" set we change a bit to create noised version.\n",
    "        \n",
    "            noisy_id: the gate we tinker with so it's made different from the \"ideal\" one.\n",
    "        \n",
    "        Returns:\n",
    "            actually does not return anything, but generates 'hidden_set' for an instance of class.\n",
    "        \"\"\"\n",
    "        if (noisy_id == 777):\n",
    "            self.hidden_set = wrong_unitaries_random(pure_unitary_set)        \n",
    "        elif (noisy_id == -1):\n",
    "            self.hidden_set = tf.identity(pure_unitary_set) \n",
    "        else:\n",
    "            noisy_gate = wrong_unitary_fixed(pure_unitary_set[noisy_id], pE_fix, pX_fix, pY_fix, pZ_fix)\n",
    "            self.hidden_set = tf.concat([pure_unitary_set[:noisy_id],\n",
    "                               noisy_gate[tf.newaxis],\n",
    "                               pure_unitary_set[noisy_id+1:]], axis=0)"
   ]
  },
  {
   "cell_type": "code",
   "execution_count": 11,
   "metadata": {},
   "outputs": [],
   "source": [
    "class Circuits:\n",
    "    \"\"\"\n",
    "    This is a class which contains everything we need to run the program.\n",
    "    \n",
    "    Attributes:\n",
    "        ideal_set: is a 'pure' set of gates which exist in our mathematical model.\n",
    "            The gates are considered pure in a sense that they have no noise at all. \n",
    "            Any circuits the user runs on their quantum computer must contain only gates described here.\n",
    "            However, due to imperfectons user's version of the same set can be different.\n",
    "    \n",
    "        workspace_set: is a set of gates we work with.\n",
    "            These gates are initialized as an 'ideal_set'. \n",
    "            However, iteration-by-iteration they are tuned to be closer and closer to 'real' noised versions.\n",
    "            IMPORTANT: these matrices are real-valued but contain one extra dimension.\n",
    "            So we can perceive them as a 2x2x2 matrices (last dim is for 'Im' part and 'Re' part)\n",
    "        \n",
    "        map: is a 2D array of ints. Each row demonstrates a different circuit.\n",
    "        In the row, each int encodes the gate number in the set.\n",
    "        Thus, the sequence of gates in a circuit is encoded as a sequence of ints in an array.       \n",
    "        \n",
    "    Functions:\n",
    "        complex_workspace: yields 'workspace_set' in a more convenient 2x2 complex matrix form.\n",
    "    \n",
    "        build_circuit_states_from_map: Essentially a 'build_circuit_state_from_map' for all the circuits.          \n",
    "            Converts the 'map' array to an array of quantum states, representing how circuits acted on a state |0>.\n",
    "        \n",
    "        train_optimizer: Trains an optimizer passed in the function.\n",
    "            Also yields a list of 'loss' values per iteration.\n",
    "    \"\"\"\n",
    "    \n",
    "    def __init__(self, circs_map, pure_unitary_set):\n",
    "        workspace_set = tf.identity(pure_unitary_set)\n",
    "        workspace_set = qgo.manifolds.complex_to_real(workspace_set)\n",
    "        self.workspace_set = tf.Variable(workspace_set)\n",
    "        self.ideal_set = tf.identity(pure_unitary_set)\n",
    "        \n",
    "        self.map = circs_map    \n",
    "        \n",
    "    def build_circuit_states_from_map(self, complex_gate_set):\n",
    "        \"\"\"\n",
    "        Basically a 'build_circuit_state_from_map' function in a cycle, making states\n",
    "        for all of the circuits simultaneously.\n",
    "        \"\"\"\n",
    "        states = []\n",
    "        for circ_map in self.map:\n",
    "            circuit_state = build_circuit_state_from_map(circ_map, complex_gate_set)\n",
    "            states.append(circuit_state)\n",
    "        return states\n",
    "    \n",
    "    def init_workspace(self, pure_unitary_set):\n",
    "        self.workspace_set = tf.Variable(qgo.manifolds.complex_to_real(pure_unitary_set))\n",
    "    \n",
    "    def complex_workspace(self):\n",
    "        return qgo.manifolds.real_to_complex(self.workspace_set)\n",
    "            \n",
    "    @tf.function\n",
    "    def _loss_and_grad(self, user_data_object, lmbd):\n",
    "        \"\"\"\n",
    "        Do not touch! it works!\n",
    "        \"\"\"\n",
    "        with tf.GradientTape() as tape:\n",
    "            complex_set = qgo.manifolds.real_to_complex(self.workspace_set)\n",
    "            states = self.build_circuit_states_from_map(complex_set)\n",
    "    \n",
    "            total_logp = tf.constant(0, dtype=tf.float32)\n",
    "            for sample, psi in zip(user_data_object.samples, states):\n",
    "                logp = tf.math.log(tf.abs(psi) ** 2)\n",
    "                logp = tf.math.real(tf.reduce_mean(logp * tf.one_hot(sample, 2)))\n",
    "                total_logp += logp\n",
    "            reg = tf.math.real(lmbd * tf.linalg.norm(complex_set - self.ideal_set) ** 2)\n",
    "            loss = -total_logp + reg\n",
    "    \n",
    "            grad = tape.gradient(loss, self.workspace_set)\n",
    "            #grad = tf.gradients(loss, gate_set_real)\n",
    "        return loss, grad\n",
    "    \n",
    "    def train_optimizer(self, opt, user_data_object, lmbd, iters):\n",
    "        # this list will be filled by value of\n",
    "        # error per iteration\n",
    "        loss_dynamics = []\n",
    "\n",
    "        # optimization loop\n",
    "        for _ in range(iters):\n",
    "            loss, grad = self._loss_and_grad(user_data_object, lmbd)\n",
    "            #print(loss, grad)\n",
    "            \n",
    "            # filling list with history of error\n",
    "            loss_dynamics.append(loss)\n",
    "            # optimization step\n",
    "            opt.apply_gradients(zip([grad], [self.workspace_set]))\n",
    "        return loss_dynamics"
   ]
  },
  {
   "cell_type": "markdown",
   "metadata": {},
   "source": [
    "## Initialization"
   ]
  },
  {
   "cell_type": "code",
   "execution_count": 12,
   "metadata": {},
   "outputs": [],
   "source": [
    "m = qgo.manifolds.StiefelManifold()"
   ]
  },
  {
   "cell_type": "code",
   "execution_count": 13,
   "metadata": {},
   "outputs": [],
   "source": [
    "circuits_map1 = []\n",
    "\"\"\"\n",
    "in the 1-qubit case it is basically a sequence of 1D arrays\n",
    "this will be modified later into a 2D array\n",
    "in multi-qubit version something smarter than just an array should be implemented\n",
    "\"\"\"\n",
    "'''circuits_map1.append([0, 1, 3])\n",
    "circuits_map1.append([0, 3, 2])\n",
    "circuits_map1.append([0, 1, 2])\n",
    "circuits_map1.append([2, 0, 3, 1])\n",
    "circuits_map1.append([0, 1, 3, 3])\n",
    "circuits_map1.append([2, 0, 2, 1])\n",
    "circuits_map1.append([3, 2, 5, 3])'''\n",
    "#circuits_map1 = [tf.random.categorical(tf.math.log(tf.ones((1, 3)) / 3), 3)[0].numpy() for i in range(3)] +\\\n",
    "                #[tf.random.categorical(tf.math.log(tf.ones((1, 3)) / 3), 4)[0].numpy() for i in range(3)] +\\\n",
    "                #[tf.random.categorical(tf.math.log(tf.ones((1, 3)) / 3), 5)[0].numpy() for i in range(3)]\n",
    "\n",
    "circuits_map1 = [tf.random.categorical(tf.math.log(tf.ones((1, 3)) / 3), 5)[0].numpy() for i in range(3)]\n",
    "circuits_map2 = [tf.random.categorical(tf.math.log(tf.ones((1, 3)) / 3), 5)[0].numpy() for i in range(6)]\n",
    "circuits_map3 = [tf.random.categorical(tf.math.log(tf.ones((1, 3)) / 3), 5)[0].numpy() for i in range(11)]"
   ]
  },
  {
   "cell_type": "code",
   "execution_count": 14,
   "metadata": {},
   "outputs": [],
   "source": [
    "c1 = Circuits(circuits_map1, pure_unitary_set)\n",
    "c2 = Circuits(circuits_map2, pure_unitary_set)\n",
    "c3 = Circuits(circuits_map3, pure_unitary_set)"
   ]
  },
  {
   "cell_type": "code",
   "execution_count": 15,
   "metadata": {},
   "outputs": [],
   "source": [
    "noisy_gate1 = 1\n",
    "user_data1 = MeasurementData(circuits_map1, noisy_gate1, pure_unitary_set)\n",
    "user_data2 = MeasurementData(circuits_map2, noisy_gate1, pure_unitary_set)\n",
    "user_data3 = MeasurementData(circuits_map3, noisy_gate1, pure_unitary_set)"
   ]
  },
  {
   "cell_type": "markdown",
   "metadata": {},
   "source": [
    "## Working with the optimizer"
   ]
  },
  {
   "cell_type": "code",
   "execution_count": 16,
   "metadata": {},
   "outputs": [],
   "source": [
    "iterations = 750\n",
    "lmbd = 0.3\n",
    "lr = 0.05"
   ]
  },
  {
   "cell_type": "code",
   "execution_count": 17,
   "metadata": {},
   "outputs": [
    {
     "name": "stdout",
     "output_type": "stream",
     "text": [
      "WARNING:tensorflow:AutoGraph could not transform <function real_to_complex at 0x000001354122A3A0> and will run it as-is.\n",
      "Please report this to the TensorFlow team. When filing the bug, set the verbosity to 10 (on Linux, `export AUTOGRAPH_VERBOSITY=10`) and attach the full output.\n",
      "Cause: module 'gast' has no attribute 'Index'\n",
      "To silence this warning, decorate the function with @tf.autograph.experimental.do_not_convert\n",
      "WARNING: AutoGraph could not transform <function real_to_complex at 0x000001354122A3A0> and will run it as-is.\n",
      "Please report this to the TensorFlow team. When filing the bug, set the verbosity to 10 (on Linux, `export AUTOGRAPH_VERBOSITY=10`) and attach the full output.\n",
      "Cause: module 'gast' has no attribute 'Index'\n",
      "To silence this warning, decorate the function with @tf.autograph.experimental.do_not_convert\n",
      "WARNING:tensorflow:AutoGraph could not transform <function build_circuit_state_from_map at 0x0000013541273AF0> and will run it as-is.\n",
      "Please report this to the TensorFlow team. When filing the bug, set the verbosity to 10 (on Linux, `export AUTOGRAPH_VERBOSITY=10`) and attach the full output.\n",
      "Cause: module 'gast' has no attribute 'Index'\n",
      "To silence this warning, decorate the function with @tf.autograph.experimental.do_not_convert\n",
      "WARNING: AutoGraph could not transform <function build_circuit_state_from_map at 0x0000013541273AF0> and will run it as-is.\n",
      "Please report this to the TensorFlow team. When filing the bug, set the verbosity to 10 (on Linux, `export AUTOGRAPH_VERBOSITY=10`) and attach the full output.\n",
      "Cause: module 'gast' has no attribute 'Index'\n",
      "To silence this warning, decorate the function with @tf.autograph.experimental.do_not_convert\n"
     ]
    }
   ],
   "source": [
    "opt1 = qgo.optimizers.RAdam(m, lr)\n",
    "c1.init_workspace(pure_unitary_set)\n",
    "loss_dynamics1 = c1.train_optimizer(opt1, user_data1, lmbd, iterations)"
   ]
  },
  {
   "cell_type": "code",
   "execution_count": 18,
   "metadata": {},
   "outputs": [],
   "source": [
    "opt2 = qgo.optimizers.RAdam(m, lr)\n",
    "c2.init_workspace(pure_unitary_set)\n",
    "loss_dynamics2 = c2.train_optimizer(opt2, user_data2, lmbd, iterations)"
   ]
  },
  {
   "cell_type": "code",
   "execution_count": 19,
   "metadata": {},
   "outputs": [],
   "source": [
    "opt3 = qgo.optimizers.RAdam(m, lr)\n",
    "c3.init_workspace(pure_unitary_set)\n",
    "loss_dynamics3 = c3.train_optimizer(opt3, user_data3, lmbd, iterations)"
   ]
  },
  {
   "cell_type": "code",
   "execution_count": 20,
   "metadata": {},
   "outputs": [],
   "source": [
    "def print_loss_dyn(loss_dynamics, num):\n",
    "    plt.plot(loss_dynamics, label = num)\n",
    "    plt.yscale('log')\n",
    "    plt.xlabel('iter')\n",
    "    plt.ylabel('err')\n",
    "    plt.legend()\n",
    "    return"
   ]
  },
  {
   "cell_type": "markdown",
   "metadata": {},
   "source": [
    "In our model we need to get logarithm of probability that we got the correct gates. Since this is calculated via multiplication of probabilities to obtain each sample, we can just sum the ln(probability[i-th sample]) for i = 0..999.\n",
    "The probability itself is easy to check since our final operator is a product of 2x2 matrices multilpication. Then we just look at <sample_bit| (u0 @ u1 @ ... @ uN) |0> which is the same as abs of the matrix element "
   ]
  },
  {
   "cell_type": "code",
   "execution_count": 21,
   "metadata": {},
   "outputs": [
    {
     "data": {
      "text/plain": [
       "Text(0, 0.5, 'err')"
      ]
     },
     "execution_count": 21,
     "metadata": {},
     "output_type": "execute_result"
    },
    {
     "data": {
      "image/png": "[encoded data removed]",
      "text/plain": [
       "<Figure size 432x288 with 1 Axes>"
      ]
     },
     "metadata": {
      "needs_background": "light"
     },
     "output_type": "display_data"
    }
   ],
   "source": [
    "plt.plot(loss_dynamics1)\n",
    "plt.yscale('log')\n",
    "plt.xlabel('iter')\n",
    "plt.ylabel('err')"
   ]
  },
  {
   "cell_type": "code",
   "execution_count": 22,
   "metadata": {},
   "outputs": [
    {
     "name": "stderr",
     "output_type": "stream",
     "text": [
      "C:\\Users\\1337pocan\\anaconda3\\envs\\tf\\lib\\site-packages\\numpy\\core\\_asarray.py:136: ComplexWarning: Casting complex values to real discards the imaginary part\n",
      "  return array(a, dtype, copy=False, order=order, subok=True)\n"
     ]
    },
    {
     "data": {
      "text/plain": [
       "<matplotlib.collections.PathCollection at 0x1354c478e80>"
      ]
     },
     "execution_count": 22,
     "metadata": {},
     "output_type": "execute_result"
    },
    {
     "data": {
      "image/png": "[encoded data removed]",
      "text/plain": [
       "<Figure size 432x288 with 1 Axes>"
      ]
     },
     "metadata": {
      "needs_background": "light"
     },
     "output_type": "display_data"
    }
   ],
   "source": [
    "plt.scatter(tf.constant([0, 1, 2,]), tf.linalg.norm(c1.complex_workspace() - c1.ideal_set, axis=(-2, -1)))"
   ]
  },
  {
   "cell_type": "code",
   "execution_count": 23,
   "metadata": {},
   "outputs": [
    {
     "data": {
      "text/plain": [
       "Text(0, 0.5, 'err')"
      ]
     },
     "execution_count": 23,
     "metadata": {},
     "output_type": "execute_result"
    },
    {
     "data": {
      "image/png": "[encoded data removed]",
      "text/plain": [
       "<Figure size 432x288 with 1 Axes>"
      ]
     },
     "metadata": {
      "needs_background": "light"
     },
     "output_type": "display_data"
    }
   ],
   "source": [
    "plt.plot(loss_dynamics2)\n",
    "plt.yscale('log')\n",
    "plt.xlabel('iter')\n",
    "plt.ylabel('err')"
   ]
  },
  {
   "cell_type": "code",
   "execution_count": 24,
   "metadata": {},
   "outputs": [
    {
     "data": {
      "text/plain": [
       "<matplotlib.collections.PathCollection at 0x1354c5c9700>"
      ]
     },
     "execution_count": 24,
     "metadata": {},
     "output_type": "execute_result"
    },
    {
     "data": {
      "image/png": "[encoded data removed]",
      "text/plain": [
       "<Figure size 432x288 with 1 Axes>"
      ]
     },
     "metadata": {
      "needs_background": "light"
     },
     "output_type": "display_data"
    }
   ],
   "source": [
    "plt.scatter(tf.constant([0, 1, 2,]), tf.linalg.norm(c2.complex_workspace() - c2.ideal_set, axis=(-2, -1)))"
   ]
  },
  {
   "cell_type": "code",
   "execution_count": 25,
   "metadata": {},
   "outputs": [
    {
     "data": {
      "text/plain": [
       "Text(0, 0.5, 'err')"
      ]
     },
     "execution_count": 25,
     "metadata": {},
     "output_type": "execute_result"
    },
    {
     "data": {
      "image/png": "[encoded data removed]",
      "text/plain": [
       "<Figure size 432x288 with 1 Axes>"
      ]
     },
     "metadata": {
      "needs_background": "light"
     },
     "output_type": "display_data"
    }
   ],
   "source": [
    "plt.plot(loss_dynamics3)\n",
    "plt.yscale('log')\n",
    "plt.xlabel('iter')\n",
    "plt.ylabel('err')"
   ]
  },
  {
   "cell_type": "code",
   "execution_count": 26,
   "metadata": {},
   "outputs": [
    {
     "data": {
      "text/plain": [
       "<matplotlib.collections.PathCollection at 0x1354c6ea130>"
      ]
     },
     "execution_count": 26,
     "metadata": {},
     "output_type": "execute_result"
    },
    {
     "data": {
      "image/png": "[encoded data removed]",
      "text/plain": [
       "<Figure size 432x288 with 1 Axes>"
      ]
     },
     "metadata": {
      "needs_background": "light"
     },
     "output_type": "display_data"
    }
   ],
   "source": [
    "plt.scatter(tf.constant([0, 1, 2,]), tf.linalg.norm(c3.complex_workspace() - c3.ideal_set, axis=(-2, -1)))"
   ]
  },
  {
   "cell_type": "markdown",
   "metadata": {},
   "source": [
    "## Obtaining results for Zhenya (BYDLOCODE)"
   ]
  },
  {
   "cell_type": "code",
   "execution_count": 27,
   "metadata": {},
   "outputs": [],
   "source": [
    "def RunExperiment (runs=10, circ_number=3, noisy_gate=0):\n",
    "    norms_list = None\n",
    "    last_iter_list = []\n",
    "    \n",
    "    for iter in range(runs):\n",
    "        circuits_map_test = [tf.random.categorical(tf.math.log(tf.ones((1, 3)) / 3), 6)[0].numpy() for i in range(circ_number)]\n",
    "        c_test = Circuits(circuits_map_test, pure_unitary_set)\n",
    "        user_data_test = MeasurementData(circuits_map_test, noisy_gate, pure_unitary_set)\n",
    "    \n",
    "        opt_test = qgo.optimizers.RAdam(m, lr)\n",
    "        c_test.init_workspace(pure_unitary_set)\n",
    "        _ = c_test.train_optimizer(opt_test, user_data_test, lmbd, iterations)\n",
    "        \n",
    "        last_iter_list.append(c_test.complex_workspace())\n",
    "        \n",
    "        #print ('iter ', iter)\n",
    "        #print ('circuits_map', circuits_map_test)\n",
    "    \n",
    "    norms_list = tf.concat([tf.linalg.norm(last_iter_list[i] - c_test.ideal_set, axis=(-2, -1))[tf.newaxis] for i in range(runs)], axis=0)\n",
    "    return norms_list"
   ]
  },
  {
   "cell_type": "code",
   "execution_count": 28,
   "metadata": {},
   "outputs": [],
   "source": [
    "ng = 1\n",
    "tf.random.set_seed(228)"
   ]
  },
  {
   "cell_type": "code",
   "execution_count": 29,
   "metadata": {},
   "outputs": [],
   "source": [
    "def tf_count(t, val):\n",
    "    elements_equal_to_value = tf.equal(t, val)\n",
    "    as_ints = tf.cast(elements_equal_to_value, tf.int32)\n",
    "    count = tf.reduce_sum(as_ints)\n",
    "    return count"
   ]
  },
  {
   "cell_type": "code",
   "execution_count": 30,
   "metadata": {},
   "outputs": [],
   "source": [
    "def my_norm(M1, M2):\n",
    "    return 1 - tf.math.abs(tf.linalg.trace(M1 @ tf.math.conj(M2)))/ M1.shape[0]"
   ]
  },
  {
   "cell_type": "code",
   "execution_count": 31,
   "metadata": {},
   "outputs": [],
   "source": [
    "def my_norm_set(M_set1, M_set2):\n",
    "    ans = tf.concat([my_norm(M_set1[i], M_set2[i])[tf.newaxis] for i in range(len(M_set1))], axis=0)\n",
    "    return ans"
   ]
  },
  {
   "cell_type": "code",
   "execution_count": 46,
   "metadata": {},
   "outputs": [],
   "source": [
    "def get_states_norm(circ_num=5, noisy_gate=0):\n",
    "    gates_list = []\n",
    "    norms_list = []\n",
    "    norms_list_old = []\n",
    "    loss_dyns = []\n",
    "    all_circuits_map = [tf.random.categorical(tf.math.log(tf.ones((1, 3)) / 3), 15)[0].numpy() for i in range(circ_num)]\n",
    "    \n",
    "    #all_circuits_map = []\n",
    "    #all_circuits_map.append(np.array([0]))\n",
    "    #all_circuits_map.append(np.array([0, 1]))\n",
    "    #all_circuits_map.append(np.array([0, 1, 2]))\n",
    "    \n",
    "    c_prev = Circuits(all_circuits_map[0][tf.newaxis], pure_unitary_set)\n",
    "    user_data_test = MeasurementData(all_circuits_map[0][tf.newaxis], -1, pure_unitary_set)\n",
    "    all_data_tests = MeasurementData(all_circuits_map, noisy_gate, pure_unitary_set)\n",
    "    user_data_test.hidden_set = all_data_tests.hidden_set\n",
    "    \n",
    "    for iterr in range(circ_num):\n",
    "        circuits_map_test = all_circuits_map[:(iterr+1)]\n",
    "        c_test = Circuits(circuits_map_test, pure_unitary_set)\n",
    "        \n",
    "        user_data_test.samples = all_data_tests.samples[:(iterr+1)]\n",
    "        \n",
    "        print('circuit no.', iterr, circuits_map_test[iterr])\n",
    "        #print('has samples', tf_count(user_data_test.samples[iterr], 0))\n",
    "        \n",
    "        opt_test = qgo.optimizers.RAdam(m, lr)\n",
    "        c_test.init_workspace(c_prev.complex_workspace()) #c_prev.complex_workspace() #pure_unitary_set\n",
    "        loss_dyn = c_test.train_optimizer(opt_test, user_data_test, lmbd, iterations)\n",
    "        \n",
    "        print_loss_dyn(loss_dyn, iterr)\n",
    "        \n",
    "        #gate_norms_list.append(tf.linalg.norm(calibrate_set(c_test.complex_workspace()) - user_data_test.hidden_set, axis=(-2, -1)))\n",
    "        #gate_norms_list.append(tf.linalg.norm(c_test.complex_workspace() - user_data_test.hidden_set, axis=(-2, -1)))\n",
    "        gates_list.append(c_test.complex_workspace())\n",
    "        \n",
    "        state1 = build_circuit_state_from_map(circuits_map_test[iterr], user_data_test.hidden_set)\n",
    "        state2 = build_circuit_state_from_map(circuits_map_test[iterr], c_test.complex_workspace())\n",
    "        state_id = build_circuit_state_from_map(circuits_map_test[iterr], c_test.ideal_set)\n",
    "        state2_old = build_circuit_state_from_map(circuits_map_test[iterr], c_prev.complex_workspace())\n",
    "        \n",
    "        c_prev = c_test\n",
    "        \n",
    "        #print('ideal state probs', tf.math.abs(state_id) ** 2)\n",
    "        #print('noised state probs', tf.math.abs(state1) ** 2)\n",
    "        #print('measured state probs', tf.math.abs(state2) ** 2)\n",
    "        #print('\\n')\n",
    "    \n",
    "        #print('old diff between noised / ideal', float(tf.norm(tf.math.abs(state1) ** 2 - tf.math.abs(state2_old) ** 2,ord=1)))\n",
    "        #print('new diff ', float(tf.norm(tf.math.abs(state1) ** 2 - tf.math.abs(state2) ** 2,ord=1)))   \n",
    "        \n",
    "        norms_list.append(float(tf.norm(tf.math.abs(state1) ** 2 - tf.math.abs(state2) ** 2,ord=1)))\n",
    "        norms_list_old.append(float(tf.norm(tf.math.abs(state1) ** 2 - tf.math.abs(state2_old) ** 2,ord=1)))\n",
    "        loss_dyns.append(loss_dyn)\n",
    "        \n",
    "    return norms_list, norms_list_old, loss_dyns, gates_list, user_data_test.hidden_set"
   ]
  },
  {
   "cell_type": "code",
   "execution_count": 47,
   "metadata": {},
   "outputs": [],
   "source": [
    "iterations = 750\n",
    "lmbd = 3\n",
    "lr = 0.1\n",
    "m = qgo.manifolds.StiefelManifold()"
   ]
  },
  {
   "cell_type": "code",
   "execution_count": 48,
   "metadata": {},
   "outputs": [],
   "source": [
    "tf.random.set_seed(2222)"
   ]
  },
  {
   "cell_type": "code",
   "execution_count": 49,
   "metadata": {},
   "outputs": [
    {
     "name": "stdout",
     "output_type": "stream",
     "text": [
      "Noising is made by exp(iH) @ U; H = 0.09282 E + 0.02719 X + -0.07748 Y + 0.09486 Z\n",
      "Noising is made by exp(iH) @ U; H = 0.07771 E + 0.09303 X + 0.084 Y + -0.09055 Z\n",
      "Noising is made by exp(iH) @ U; H = 0.09535 E + 0.05524 X + -0.07551 Y + 0.01566 Z\n",
      "circuit no. 0 [0 2 0 1 2 0 1 2 2 1 0 2 1 2 0]\n",
      "circuit no. 1 [2 1 2 2 1 0 1 0 1 1 1 1 1 1 2]\n",
      "circuit no. 2 [2 0 2 1 0 2 0 1 1 1 1 1 0 2 1]\n",
      "circuit no. 3 [0 1 0 0 2 0 2 1 2 0 0 1 2 0 1]\n",
      "circuit no. 4 [0 0 2 1 2 1 1 1 1 1 1 2 1 1 1]\n",
      "circuit no. 5 [0 2 0 2 1 0 2 0 2 0 0 2 0 1 2]\n",
      "circuit no. 6 [2 2 2 1 2 1 2 1 1 1 1 2 0 2 1]\n",
      "circuit no. 7 [1 0 0 2 0 1 0 2 0 2 0 0 2 2 2]\n",
      "circuit no. 8 [2 1 2 0 0 2 2 1 2 0 1 1 2 0 0]\n",
      "circuit no. 9 [1 2 2 0 2 1 1 2 0 0 1 2 2 1 2]\n",
      "circuit no. 10 [0 1 0 1 0 2 0 0 1 1 1 0 2 2 2]\n",
      "circuit no. 11 [0 2 0 1 0 1 1 0 1 0 0 2 1 0 0]\n",
      "circuit no. 12 [1 2 1 0 0 0 1 2 1 2 1 1 1 2 1]\n",
      "circuit no. 13 [1 1 0 2 0 1 0 1 0 0 0 2 2 0 2]\n",
      "circuit no. 14 [2 1 2 2 1 1 1 1 2 1 2 2 1 0 1]\n",
      "circuit no. 15 [1 1 1 0 0 0 1 1 2 1 1 1 0 0 2]\n",
      "circuit no. 16 [1 0 2 1 1 0 0 2 0 1 1 0 0 1 2]\n",
      "circuit no. 17 [1 2 1 2 1 0 0 1 0 2 0 2 0 2 1]\n",
      "circuit no. 18 [1 1 2 1 0 0 1 2 1 2 1 2 2 2 0]\n",
      "circuit no. 19 [2 0 2 1 0 0 0 1 2 0 2 1 1 1 1]\n",
      "circuit no. 20 [1 1 0 0 1 1 2 1 2 2 1 0 0 1 2]\n",
      "circuit no. 21 [1 2 1 1 0 1 0 0 1 1 2 2 0 0 0]\n",
      "circuit no. 22 [1 0 0 2 1 0 2 2 0 0 2 0 0 0 1]\n",
      "circuit no. 23 [1 0 1 0 1 2 1 2 0 0 1 2 0 1 2]\n",
      "circuit no. 24 [2 0 0 0 0 0 0 0 1 1 1 0 1 0 1]\n",
      "circuit no. 25 [1 2 1 2 2 2 0 0 1 0 0 2 0 0 0]\n",
      "circuit no. 26 [0 0 1 2 0 2 1 2 2 0 1 2 1 1 1]\n",
      "circuit no. 27 [2 0 0 1 1 1 1 0 1 2 2 1 1 2 1]\n",
      "circuit no. 28 [1 1 1 2 0 2 0 2 1 1 1 0 0 0 1]\n",
      "circuit no. 29 [2 2 1 2 2 1 2 2 1 1 2 0 0 1 0]\n"
     ]
    },
    {
     "data": {
      "image/png": "[encoded data removed]",
      "text/plain": [
       "<Figure size 432x288 with 1 Axes>"
      ]
     },
     "metadata": {
      "needs_background": "light"
     },
     "output_type": "display_data"
    }
   ],
   "source": [
    "norms_list, norms_list_old, loss_dyns, gates_list, hidden_set = get_states_norm(30, 777)"
   ]
  },
  {
   "cell_type": "code",
   "execution_count": 50,
   "metadata": {},
   "outputs": [
    {
     "data": {
      "image/png": "[encoded data removed]",
      "text/plain": [
       "<Figure size 432x288 with 1 Axes>"
      ]
     },
     "metadata": {
      "needs_background": "light"
     },
     "output_type": "display_data"
    }
   ],
   "source": [
    "plt.scatter(np.arange(30) + 1, norms_list, color='#1f77b4')\n",
    "plt.scatter(np.arange(30) + 1, norms_list_old, color='#ff7f0e')\n",
    "plt.yscale('log')"
   ]
  },
  {
   "cell_type": "code",
   "execution_count": 51,
   "metadata": {},
   "outputs": [
    {
     "data": {
      "text/plain": [
       "<matplotlib.collections.PathCollection at 0x1354c550ca0>"
      ]
     },
     "execution_count": 51,
     "metadata": {},
     "output_type": "execute_result"
    },
    {
     "data": {
      "image/png": "[encoded data removed]",
      "text/plain": [
       "<Figure size 432x288 with 1 Axes>"
      ]
     },
     "metadata": {
      "needs_background": "light"
     },
     "output_type": "display_data"
    }
   ],
   "source": [
    "gate_norms_mean = []\n",
    "\n",
    "for i in range(30):\n",
    "    mean_norm = tf.reduce_mean(my_norm_set(gates_list[i],hidden_set), axis=0)\n",
    "    #mean_norm = tf.reduce_mean(tf.linalg.norm((gates_list[i] - hidden_set), axis=(-2, -1)), axis=0)\n",
    "    gate_norms_mean.append(mean_norm)\n",
    "\n",
    "plt.scatter(range(30), gate_norms_mean)"
   ]
  },
  {
   "cell_type": "code",
   "execution_count": null,
   "metadata": {},
   "outputs": [],
   "source": []
  },
  {
   "cell_type": "code",
   "execution_count": 52,
   "metadata": {},
   "outputs": [
    {
     "data": {
      "image/png": "[encoded data removed]",
      "text/plain": [
       "<Figure size 432x288 with 1 Axes>"
      ]
     },
     "metadata": {
      "needs_background": "light"
     },
     "output_type": "display_data"
    }
   ],
   "source": [
    "print_loss_dyn(loss_dyns[1], 1)\n",
    "print_loss_dyn(loss_dyns[10], 10)"
   ]
  },
  {
   "cell_type": "code",
   "execution_count": 39,
   "metadata": {},
   "outputs": [
    {
     "data": {
      "text/plain": [
       "array([[[ 0.72467-0.02342j,  0.68645-0.05556j],\n",
       "        [ 0.6869 -0.04976j, -0.71977+0.08735j]],\n",
       "\n",
       "       [[ 0.83147-0.54958j,  0.01326-0.08034j],\n",
       "        [ 0.01679-0.07968j,  0.57542+0.81379j]],\n",
       "\n",
       "       [[ 0.88334-0.46535j, -0.01642+0.05379j],\n",
       "        [ 0.03246+0.04593j,  0.98472+0.1648j ]]], dtype=complex64)"
      ]
     },
     "execution_count": 39,
     "metadata": {},
     "output_type": "execute_result"
    }
   ],
   "source": [
    "np.round(hidden_set, 5)"
   ]
  },
  {
   "cell_type": "code",
   "execution_count": 40,
   "metadata": {},
   "outputs": [
    {
     "data": {
      "text/plain": [
       "array([[[ 0.63889-0.40847j,  0.6519 -0.00138j],\n",
       "        [ 0.6519 +0.00138j, -0.63889-0.40847j]],\n",
       "\n",
       "       [[ 0.41848-0.87225j, -0.09681-0.23384j],\n",
       "        [ 0.09681-0.23384j,  0.41848+0.87225j]],\n",
       "\n",
       "       [[ 0.71542-0.65666j,  0.0934 +0.21964j],\n",
       "        [-0.0934 +0.21964j,  0.71543+0.65666j]]], dtype=complex64)"
      ]
     },
     "execution_count": 40,
     "metadata": {},
     "output_type": "execute_result"
    }
   ],
   "source": [
    "np.round(gates_list[23], 5)"
   ]
  },
  {
   "cell_type": "code",
   "execution_count": 41,
   "metadata": {},
   "outputs": [
    {
     "ename": "NameError",
     "evalue": "name 'gate_norms_list' is not defined",
     "output_type": "error",
     "traceback": [
      "\u001b[1;31m---------------------------------------------------------------------------\u001b[0m",
      "\u001b[1;31mNameError\u001b[0m                                 Traceback (most recent call last)",
      "\u001b[1;32m<ipython-input-41-14416d729005>\u001b[0m in \u001b[0;36m<module>\u001b[1;34m\u001b[0m\n\u001b[1;32m----> 1\u001b[1;33m \u001b[0mplt\u001b[0m\u001b[1;33m.\u001b[0m\u001b[0mscatter\u001b[0m\u001b[1;33m(\u001b[0m\u001b[0mtf\u001b[0m\u001b[1;33m.\u001b[0m\u001b[0mconstant\u001b[0m\u001b[1;33m(\u001b[0m\u001b[1;33m[\u001b[0m\u001b[1;36m0\u001b[0m\u001b[1;33m,\u001b[0m \u001b[1;36m1\u001b[0m\u001b[1;33m,\u001b[0m \u001b[1;36m2\u001b[0m\u001b[1;33m,\u001b[0m\u001b[1;33m]\u001b[0m\u001b[1;33m)\u001b[0m\u001b[1;33m,\u001b[0m \u001b[0mgate_norms_list\u001b[0m\u001b[1;33m[\u001b[0m\u001b[1;36m14\u001b[0m\u001b[1;33m]\u001b[0m\u001b[1;33m)\u001b[0m\u001b[1;33m\u001b[0m\u001b[1;33m\u001b[0m\u001b[0m\n\u001b[0m",
      "\u001b[1;31mNameError\u001b[0m: name 'gate_norms_list' is not defined"
     ]
    }
   ],
   "source": [
    "plt.scatter(tf.constant([0, 1, 2,]), gate_norms_list[14])"
   ]
  },
  {
   "cell_type": "code",
   "execution_count": null,
   "metadata": {},
   "outputs": [],
   "source": []
  },
  {
   "cell_type": "code",
   "execution_count": null,
   "metadata": {},
   "outputs": [],
   "source": []
  }
 ],
 "metadata": {
  "kernelspec": {
   "display_name": "Python 3",
   "language": "python",
   "name": "python3"
  },
  "language_info": {
   "codemirror_mode": {
    "name": "ipython",
    "version": 3
   },
   "file_extension": ".py",
   "mimetype": "text/x-python",
   "name": "python",
   "nbconvert_exporter": "python",
   "pygments_lexer": "ipython3",
   "version": "3.8.5"
  }
 },
 "nbformat": 4,
 "nbformat_minor": 4
}
