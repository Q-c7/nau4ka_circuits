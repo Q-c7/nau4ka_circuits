{
 "cells": [
  {
   "cell_type": "markdown",
   "metadata": {},
   "source": [
    "## Basic functions"
   ]
  },
  {
   "cell_type": "code",
   "execution_count": 3,
   "metadata": {},
   "outputs": [],
   "source": [
    "import tensorflow as tf  # tf 2.x\n",
    "import tensornetwork as tn\n",
    "tn.set_default_backend(\"tensorflow\")\n",
    "from tensornetwork import ncon\n",
    "import matplotlib.pyplot as plt\n",
    "import math\n",
    "import cmath\n",
    "import numpy as np\n",
    "\n",
    "try:\n",
    "    import QGOpt as qgo\n",
    "except ImportError:\n",
    "    !pip install git+https://github.com/LuchnikovI/QGOpt\n",
    "    import QGOpt as qgo"
   ]
  },
  {
   "cell_type": "code",
   "execution_count": 4,
   "metadata": {},
   "outputs": [],
   "source": [
    "def matr_Ry(angle):\n",
    "    return tf.constant([[math.cos(angle/2), -math.sin(angle/2)],\n",
    "                        [+math.sin(angle/2), math.cos(angle/2)]], dtype=tf.complex64)\n",
    "\n",
    "def matr_Rx(angle):\n",
    "    return tf.constant([[math.cos(angle/2) + 0j, -1j * math.sin(angle/2)],\n",
    "                        [-1j * math.sin(angle/2), math.cos(angle/2) + 0j]], dtype=tf.complex64)\n",
    "\n",
    "def matr_Rz(angle):\n",
    "    return tf.constant([[math.cos(angle/2) -1j * math.sin(angle/2), 0],\n",
    "                        [0, math.cos(angle/2) + 1j * math.sin(angle/2)]], dtype=tf.complex64)\n",
    "\n",
    "Hadamard = tf.constant([[1, 1],\n",
    "                        [1, -1]], dtype=tf.complex64) / math.sqrt(2)"
   ]
  },
  {
   "cell_type": "code",
   "execution_count": 5,
   "metadata": {},
   "outputs": [],
   "source": [
    "@tf.function\n",
    "def kron(A, B):\n",
    "    \"\"\"\n",
    "    Returns Kronecker product of two square matrices.\n",
    "\n",
    "    Args:\n",
    "        A: complex valued tf tensor of shape (dim1, dim1)\n",
    "        B: complex valued tf tensor of shape (dim2, dim2)\n",
    "\n",
    "    Returns:\n",
    "        complex valued tf tensor of shape (dim1 * dim2, dim1 * dim2),\n",
    "        kronecker product of two matrices\n",
    "    \"\"\"\n",
    "\n",
    "    dim1 = A.shape[-1]\n",
    "    dim2 = B.shape[-1]\n",
    "    AB = tf.transpose(tf.tensordot(A, B, axes=0), (0, 2, 1, 3))\n",
    "    return tf.reshape(AB, (dim1 * dim2, dim1 * dim2))"
   ]
  },
  {
   "cell_type": "code",
   "execution_count": 252,
   "metadata": {},
   "outputs": [],
   "source": [
    "class QuantumCircuits:\n",
    "\n",
    "    def __init__(self, gates, n):\n",
    "        self.gates = gates\n",
    "        self.circuits = {}\n",
    "        self.n = n\n",
    "        self.in_states = n * [tf.constant([1, 0], dtype=tf.complex64)]\n",
    "        \n",
    "    def add_circuit(self, tn_template, name):\n",
    "        self.circuits[name] = tn_template\n",
    "        #template = [gates_order, ncon]\n",
    "        \n",
    "    def evaluate (self, indices, name): #indices.shape = (bs, n)\n",
    "        out_tensors = tf.one_hot(indices, 2, dtype=tf.complex64) #(bs, n, 2); n - нумерует тензор\n",
    "        out_tensors = [out_tensors[:, i, :] for i in range(self.n)]\n",
    "        tensors, net_struc, con_order, out_order = self.circuits[name]\n",
    "        tensors = out_tensors + self.in_states + [self.gates[i] for i in tensors]\n",
    "        #print(net_struc)\n",
    "        #print(len(tensors))\n",
    "        for i in np.arange(len(net_struc)):\n",
    "            for j in np.arange(len(net_struc[i])):\n",
    "                if isinstance(net_struc[i][j], int):\n",
    "                    if net_struc[i][j] < 0:\n",
    "                        #print('CCC', net_struc[i][j])\n",
    "                        net_struc[i][j] = 'out' + str(-net_struc[i][j])\n",
    "        net_struc = [[-1, 'out' + str(i)] for i in range(1, self.n+1)] + [[i] for i in range(1, self.n+1)] + net_struc\n",
    "        #print(len(net_struc))\n",
    "        con_order = ['out' + str(i) for i in range(1, self.n+1)] + [i for i in range(1, self.n+1)] + con_order\n",
    "        #print(len(out_tensors))\n",
    "        #print(net_struc)\n",
    "        #print(con_order)\n",
    "        \n",
    "        #print(\"TENSOR 101\", tensors[101])\n",
    "        #print(\"NET STRUCT 101\", net_struc[101])\n",
    "        \n",
    "        return ncon(tensors, net_struc, con_order, (-1,))"
   ]
  },
  {
   "cell_type": "code",
   "execution_count": 259,
   "metadata": {},
   "outputs": [],
   "source": [
    "H = tf.constant([[1, 1],\n",
    "                 [1, -1]], dtype=tf.complex64) / math.sqrt(2)\n",
    "\n",
    "CNOT = tf.constant([[[[1, 0],\n",
    "                    [0, 1]], \n",
    "                    [[0, 0],\n",
    "                    [0, 0]]],\n",
    "                    [[[0, 0],\n",
    "                    [0, 0]],\n",
    "                     [[0, 1],\n",
    "                     [1, 0]]]], dtype=tf.complex64)\n",
    "\n",
    "tn_template = [[0] + 49 * [1],\n",
    "               [[51, 1]] + [[50+i+1, -i, i+1, 50+i] for i in range(1,49)] + [[-50, -49, 50, 99]],\n",
    "              [i for i in range (51, 100)],\n",
    "              [-i for i in range (1, 51)]]  #-i for i in range (1, 51)]"
   ]
  },
  {
   "cell_type": "code",
   "execution_count": 260,
   "metadata": {},
   "outputs": [],
   "source": [
    "qc = QuantumCircuits([H, CNOT], 50)"
   ]
  },
  {
   "cell_type": "code",
   "execution_count": 261,
   "metadata": {},
   "outputs": [],
   "source": [
    "qc.add_circuit(tn_template, 'GHZ')"
   ]
  },
  {
   "cell_type": "code",
   "execution_count": 262,
   "metadata": {},
   "outputs": [],
   "source": [
    "aaa = qc.evaluate(tf.concat([tf.zeros((1, 50), dtype=tf.int32), tf.ones((1, 50), dtype=tf.int32)], axis=0), 'GHZ')"
   ]
  },
  {
   "cell_type": "code",
   "execution_count": 263,
   "metadata": {},
   "outputs": [
    {
     "data": {
      "text/plain": [
       "<tf.Tensor: shape=(2,), dtype=complex64, numpy=array([0.7071068+0.j, 0.7071068+0.j], dtype=complex64)>"
      ]
     },
     "execution_count": 263,
     "metadata": {},
     "output_type": "execute_result"
    }
   ],
   "source": [
    "aaa"
   ]
  },
  {
   "cell_type": "code",
   "execution_count": null,
   "metadata": {},
   "outputs": [],
   "source": []
  }
 ],
 "metadata": {
  "kernelspec": {
   "display_name": "Python 3",
   "language": "python",
   "name": "python3"
  },
  "language_info": {
   "codemirror_mode": {
    "name": "ipython",
    "version": 3
   },
   "file_extension": ".py",
   "mimetype": "text/x-python",
   "name": "python",
   "nbconvert_exporter": "python",
   "pygments_lexer": "ipython3",
   "version": "3.8.5"
  }
 },
 "nbformat": 4,
 "nbformat_minor": 4
}
