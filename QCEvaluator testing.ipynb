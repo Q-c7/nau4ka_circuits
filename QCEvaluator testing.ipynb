{
 "cells": [
  {
   "cell_type": "markdown",
   "metadata": {},
   "source": [
    "## Basic functions"
   ]
  },
  {
   "cell_type": "code",
   "execution_count": 1,
   "metadata": {},
   "outputs": [],
   "source": [
    "import tensorflow as tf  # tf 2.x\n",
    "import tensornetwork as tn\n",
    "tn.set_default_backend(\"tensorflow\")\n",
    "from tensornetwork import ncon\n",
    "import matplotlib.pyplot as plt\n",
    "import math\n",
    "import cmath\n",
    "import numpy as np\n",
    "\n",
    "try:\n",
    "    import QGOpt as qgo\n",
    "except ImportError:\n",
    "    !pip install git+https://github.com/LuchnikovI/QGOpt\n",
    "    import QGOpt as qgo"
   ]
  },
  {
   "cell_type": "code",
   "execution_count": 3,
   "metadata": {},
   "outputs": [],
   "source": [
    "from QCCalc import QCEvaluator\n",
    "import general_utils as util\n",
    "import channel_utils as c_util"
   ]
  },
  {
   "cell_type": "code",
   "execution_count": 4,
   "metadata": {},
   "outputs": [],
   "source": [
    "Hadamard = tf.constant([[1, 1],\n",
    "                        [1, -1]], dtype=tf.complex64) / math.sqrt(2)\n",
    "\n",
    "S = util.matr_Rz(math.pi/2)\n",
    "\n",
    "T = util.matr_Rz(math.pi/4)\n",
    "\n",
    "E = tf.eye(2, dtype=tf.complex64)\n",
    "\n",
    "CZ_44 = tf.constant([[1, 0, 0, 0],\n",
    "                    [0, 1, 0, 0],\n",
    "                    [0, 0, 1, 0],\n",
    "                    [0, 0, 0, -1]], dtype=tf.complex64)\n",
    "\n",
    "E_44 = tf.eye(4, dtype=tf.complex64)\n",
    "\n",
    "CNOT_44 = tf.constant([[1, 0, 0, 0],\n",
    "                    [0, 1, 0, 0],\n",
    "                    [0, 0, 0, 1],\n",
    "                    [0, 0, 1, 0]], dtype=tf.complex64) \n",
    "RNOT_44 = tf.constant([[1, 0, 0, 0],\n",
    "                    [0, 0, 0, 1],\n",
    "                    [0, 0, 1, 0],\n",
    "                    [0, 1, 0, 0]], dtype=tf.complex64)"
   ]
  },
  {
   "cell_type": "code",
   "execution_count": 5,
   "metadata": {},
   "outputs": [],
   "source": [
    "CNOT = util.convert_44_to_2222(CNOT_44)\n",
    "CZ = util.convert_44_to_2222(CZ_44)\n",
    "RNOT = util.convert_44_to_2222(RNOT_44)\n",
    "big_E = util.convert_44_to_2222(E_44)\n",
    "\n",
    "H_channel = c_util.convert_1qmatrix_to_channel(Hadamard)\n",
    "S_channel = c_util.convert_1qmatrix_to_channel(S)\n",
    "T_channel = c_util.convert_1qmatrix_to_channel(T)\n",
    "CZ_channel = c_util.convert_2qmatrix_to_channel(CZ)\n",
    "CNOT_channel = c_util.convert_2qmatrix_to_channel(CNOT)\n",
    "big_E_channel = c_util.convert_2qmatrix_to_channel(big_E)\n",
    "RNOT_channel = c_util.convert_2qmatrix_to_channel(RNOT)"
   ]
  },
  {
   "cell_type": "code",
   "execution_count": null,
   "metadata": {},
   "outputs": [],
   "source": []
  },
  {
   "cell_type": "raw",
   "metadata": {},
   "source": [
    "tn_template_GHZ_50 = [[0] + 49 * [1],\n",
    "               [[51, 1]] + [[50+i+1, -i, i+1, 50+i] for i in range(1,49)] + [[-50, -49, 50, 99]],\n",
    "              [i for i in range (51, 100)],\n",
    "              [-i for i in range (1, 51)]]  #-i for i in range (1, 51)]"
   ]
  },
  {
   "cell_type": "raw",
   "metadata": {},
   "source": [
    "qc_50_c = QCEvaluator([H_channel, CNOT_channel], 50)\n",
    "qc_50_c.add_circuit(tn_template_GHZ_50 , 'GHZ')\n",
    "full_samples = qc_50_c.make_full_samples('GHZ')      "
   ]
  },
  {
   "cell_type": "code",
   "execution_count": null,
   "metadata": {},
   "outputs": [],
   "source": []
  },
  {
   "cell_type": "code",
   "execution_count": 21,
   "metadata": {},
   "outputs": [],
   "source": [
    "qc_5_c = QCEvaluator([H_channel, CNOT_channel], 5)\n",
    "\n",
    "tn_template_GHZ_5 = [[0] + 4 * [1],\n",
    "               [[6, 1]] + [[7, -1, 2, 6]] + [[8, -2, 3, 7]] + [[9, -3, 4, 8]] + [[-5, -4, 5, 9]],\n",
    "              [i for i in range (6, 10)],\n",
    "              [-i for i in range (1, 6)]]\n",
    "\n",
    "#qc_5.add_circuit(tn_template_GHZ_5, 'GHZ')\n",
    "qc_5_c.add_circuit(tn_template_GHZ_5, 'GHZ')\n",
    "full_samples_GHZ_5 = qc_5_c.make_full_samples('GHZ', 10000)"
   ]
  },
  {
   "cell_type": "code",
   "execution_count": 22,
   "metadata": {},
   "outputs": [],
   "source": [
    "indic = tf.unravel_index(indices=tf.range(0, 32, delta=1, dtype=None), dims=(2, 2, 2, 2, 2))\n",
    "true_psi = qc_5_c.evaluate(tf.transpose(indic), 'GHZ')\n",
    "#true_p = tf.abs(true_psi) ** 2"
   ]
  },
  {
   "cell_type": "code",
   "execution_count": 23,
   "metadata": {},
   "outputs": [],
   "source": [
    "dimdim = tf.constant([2,2,2,2,2], dtype=tf.int32)\n",
    "counts = util.tf_ravel_multi_index(full_samples_GHZ_5, dimdim)\n",
    "hist1 = tf.math.bincount(counts)\n",
    "#trash1, trash2, hist = tf.unique_with_counts(counts, out_idx=tf.int64)"
   ]
  },
  {
   "cell_type": "code",
   "execution_count": 24,
   "metadata": {},
   "outputs": [
    {
     "data": {
      "text/plain": [
       "[<matplotlib.lines.Line2D at 0x1d052f3e340>]"
      ]
     },
     "execution_count": 24,
     "metadata": {},
     "output_type": "execute_result"
    },
    {
     "data": {
      "image/png": "[encoded data removed]",
      "text/plain": [
       "<Figure size 432x288 with 1 Axes>"
      ]
     },
     "metadata": {
      "needs_background": "light"
     },
     "output_type": "display_data"
    }
   ],
   "source": [
    "#plt.plot(hist / counts.shape[0])\n",
    "plt.plot(hist1 / counts.shape[0])\n",
    "plt.plot(tf.abs(true_psi))"
   ]
  },
  {
   "cell_type": "code",
   "execution_count": null,
   "metadata": {},
   "outputs": [],
   "source": []
  },
  {
   "cell_type": "code",
   "execution_count": 9,
   "metadata": {},
   "outputs": [],
   "source": [
    "qc_5_c_alt = QCEvaluator([H_channel, S_channel, T_channel, CZ_channel, tf.eye(4, dtype=tf.complex64)], 5)\n",
    "\n",
    "GHZ_5_legs = [[i+5, i] for i in range (1, 6)] + [[14+i, 10+i] for i in range (1, 4)] + [[-5, 14]] +\\\n",
    "[[11, -1, 7, 6]] + [[10+i, -i, i+6, i+13] for i in range (2, 5)]\n",
    "\n",
    "tn_template_GHZ_5_alt = [[0, 0, 0, 0, 0, 0, 0, 0, 0, 3, 3, 3, 3],\n",
    "GHZ_5_legs,\n",
    "[i for i in range (6, 18)],\n",
    "[-i for i in range (1, 6)]]  #-i for i in range (1, 51)]\n",
    "\n",
    "#qc_5.add_circuit(tn_template_GHZ_5, 'GHZ')\n",
    "qc_5_c_alt.add_circuit(tn_template_GHZ_5_alt, 'GHZ')\n",
    "full_samples_GHZ_5_alt = qc_5_c_alt.make_full_samples('GHZ', 10000)"
   ]
  },
  {
   "cell_type": "code",
   "execution_count": 10,
   "metadata": {},
   "outputs": [
    {
     "data": {
      "text/plain": [
       "[[6, 1],\n",
       " [7, 2],\n",
       " [8, 3],\n",
       " [9, 4],\n",
       " [10, 5],\n",
       " [15, 11],\n",
       " [16, 12],\n",
       " [17, 13],\n",
       " ['out5', 14],\n",
       " [11, 'out1', 7, 6],\n",
       " [12, 'out2', 8, 15],\n",
       " [13, 'out3', 9, 16],\n",
       " [14, 'out4', 10, 17]]"
      ]
     },
     "execution_count": 10,
     "metadata": {},
     "output_type": "execute_result"
    }
   ],
   "source": [
    "GHZ_5_legs "
   ]
  },
  {
   "cell_type": "code",
   "execution_count": 11,
   "metadata": {},
   "outputs": [],
   "source": [
    "indic = tf.unravel_index(indices=tf.range(0, 32, delta=1, dtype=None), dims=(2, 2, 2, 2, 2))\n",
    "true_psi = qc_5_c_alt.evaluate(tf.transpose(indic), 'GHZ')\n",
    "#true_p = tf.abs(true_psi) ** 2"
   ]
  },
  {
   "cell_type": "code",
   "execution_count": 12,
   "metadata": {},
   "outputs": [],
   "source": [
    "counts = util.tf_ravel_multi_index(full_samples_GHZ_5_alt, dimdim)\n",
    "hist1 = tf.math.bincount(counts)\n",
    "#trash1, trash2, hist = tf.unique_with_counts(counts, out_idx=tf.int64)"
   ]
  },
  {
   "cell_type": "code",
   "execution_count": 13,
   "metadata": {},
   "outputs": [
    {
     "name": "stderr",
     "output_type": "stream",
     "text": [
      "C:\\Users\\1337pocan\\anaconda3\\envs\\tf\\lib\\site-packages\\numpy\\core\\_asarray.py:83: ComplexWarning: Casting complex values to real discards the imaginary part\n",
      "  return array(a, dtype, copy=False, order=order)\n"
     ]
    },
    {
     "data": {
      "text/plain": [
       "[<matplotlib.lines.Line2D at 0x1dc3484a550>]"
      ]
     },
     "execution_count": 13,
     "metadata": {},
     "output_type": "execute_result"
    },
    {
     "data": {
      "image/png": "[encoded data removed]",
      "text/plain": [
       "<Figure size 432x288 with 1 Axes>"
      ]
     },
     "metadata": {
      "needs_background": "light"
     },
     "output_type": "display_data"
    }
   ],
   "source": [
    "#plt.plot(hist / counts.shape[0])\n",
    "plt.plot(hist1 / counts.shape[0], color = 'red')\n",
    "plt.plot(true_psi, color = 'blue')"
   ]
  },
  {
   "cell_type": "code",
   "execution_count": 14,
   "metadata": {},
   "outputs": [],
   "source": [
    "tn_template_GHZ_5_2 = [[0, 0, 0, 3, 4, 4, 4],\n",
    "[[6, 1], [7, 2], [-2, 8], [8, -1, 7, 6], [-3, 3], [-4, 4], [-5, 5]],\n",
    "[i for i in range (6, 9)],\n",
    "[-i for i in range (1, 6)]]  #-i for i in range (1, 51)]\n",
    "\n",
    "qc_5_c_alt.add_circuit(tn_template_GHZ_5_2, 'GHZ_2')\n",
    "full_samples_GHZ_5_2 = qc_5_c_alt.make_full_samples('GHZ_2', 10000)"
   ]
  },
  {
   "cell_type": "code",
   "execution_count": 15,
   "metadata": {},
   "outputs": [
    {
     "data": {
      "text/plain": [
       "<tf.Tensor: shape=(10, 5), dtype=int32, numpy=\n",
       "array([[1, 1, 0, 0, 0],\n",
       "       [1, 1, 0, 0, 0],\n",
       "       [0, 0, 0, 0, 0],\n",
       "       [1, 1, 0, 0, 0],\n",
       "       [0, 0, 0, 0, 0],\n",
       "       [1, 1, 0, 0, 0],\n",
       "       [0, 0, 0, 0, 0],\n",
       "       [1, 1, 0, 0, 0],\n",
       "       [0, 0, 0, 0, 0],\n",
       "       [1, 1, 0, 0, 0]])>"
      ]
     },
     "execution_count": 15,
     "metadata": {},
     "output_type": "execute_result"
    }
   ],
   "source": [
    "full_samples_GHZ_5_2[:10]"
   ]
  },
  {
   "cell_type": "code",
   "execution_count": null,
   "metadata": {},
   "outputs": [],
   "source": []
  },
  {
   "cell_type": "code",
   "execution_count": 16,
   "metadata": {},
   "outputs": [],
   "source": [
    "debil_template = [[0, 0, 1],\n",
    "                 [[3, 2], [-2, 4], [4, -1, 3, 1]],\n",
    "                 [3, 4],\n",
    "                 [-1, -2]]"
   ]
  },
  {
   "cell_type": "code",
   "execution_count": 17,
   "metadata": {},
   "outputs": [],
   "source": [
    "qc_debil = QCEvaluator([H_channel, CZ_channel], 2)\n",
    "qc_debil.add_circuit(debil_template, 'debil')\n",
    "\n",
    "qc_debil.in_states = 2 * [tf.constant([0, 0, 0, 1], dtype=tf.complex64)]\n",
    "samples_debil_11 = qc_debil.make_full_samples('debil')\n",
    "qc_debil.in_states = 2 * [tf.constant([1, 0, 0, 0], dtype=tf.complex64)]\n",
    "samples_debil_00 = qc_debil.make_full_samples('debil')\n",
    "qc_debil.in_states = [tf.constant([1, 0, 0, 0], dtype=tf.complex64)] + [tf.constant([0, 0, 0, 1], dtype=tf.complex64)]\n",
    "samples_debil_01 = qc_debil.make_full_samples('debil')\n",
    "qc_debil.in_states = [tf.constant([0, 0, 0, 1], dtype=tf.complex64)] + [tf.constant([1, 0, 0, 0], dtype=tf.complex64)]\n",
    "samples_debil_10 = qc_debil.make_full_samples('debil')"
   ]
  },
  {
   "cell_type": "code",
   "execution_count": 18,
   "metadata": {},
   "outputs": [
    {
     "data": {
      "text/plain": [
       "<tf.Tensor: shape=(5, 2), dtype=int32, numpy=\n",
       "array([[0, 0],\n",
       "       [0, 0],\n",
       "       [0, 0],\n",
       "       [0, 0],\n",
       "       [0, 0]])>"
      ]
     },
     "execution_count": 18,
     "metadata": {},
     "output_type": "execute_result"
    }
   ],
   "source": [
    "samples_debil_00[:5] #00"
   ]
  },
  {
   "cell_type": "code",
   "execution_count": 19,
   "metadata": {},
   "outputs": [
    {
     "data": {
      "text/plain": [
       "<tf.Tensor: shape=(5, 2), dtype=int32, numpy=\n",
       "array([[0, 1],\n",
       "       [0, 1],\n",
       "       [0, 1],\n",
       "       [0, 1],\n",
       "       [0, 1]])>"
      ]
     },
     "execution_count": 19,
     "metadata": {},
     "output_type": "execute_result"
    }
   ],
   "source": [
    "samples_debil_01[:5] #01"
   ]
  },
  {
   "cell_type": "code",
   "execution_count": 20,
   "metadata": {},
   "outputs": [
    {
     "data": {
      "text/plain": [
       "<tf.Tensor: shape=(5, 2), dtype=int32, numpy=\n",
       "array([[1, 1],\n",
       "       [1, 1],\n",
       "       [1, 1],\n",
       "       [1, 1],\n",
       "       [1, 1]])>"
      ]
     },
     "execution_count": 20,
     "metadata": {},
     "output_type": "execute_result"
    }
   ],
   "source": [
    "samples_debil_10[:5] #11"
   ]
  },
  {
   "cell_type": "code",
   "execution_count": 21,
   "metadata": {},
   "outputs": [
    {
     "data": {
      "text/plain": [
       "<tf.Tensor: shape=(5, 2), dtype=int32, numpy=\n",
       "array([[1, 0],\n",
       "       [1, 0],\n",
       "       [1, 0],\n",
       "       [1, 0],\n",
       "       [1, 0]])>"
      ]
     },
     "execution_count": 21,
     "metadata": {},
     "output_type": "execute_result"
    }
   ],
   "source": [
    "samples_debil_11[:5] #10"
   ]
  },
  {
   "cell_type": "code",
   "execution_count": null,
   "metadata": {},
   "outputs": [],
   "source": []
  },
  {
   "cell_type": "code",
   "execution_count": 22,
   "metadata": {},
   "outputs": [],
   "source": [
    "debil_template_cnot = [[0],\n",
    "                 [[-2, -1, 2, 1]],\n",
    "                 [],\n",
    "                 [-1, -2]]"
   ]
  },
  {
   "cell_type": "code",
   "execution_count": 23,
   "metadata": {},
   "outputs": [],
   "source": [
    "qc_debil_cnot = QCEvaluator([CNOT_channel], 2)\n",
    "qc_debil_cnot.add_circuit(debil_template_cnot, 'debil')\n",
    "\n",
    "qc_debil_cnot.in_states = 2 * [tf.constant([0, 0, 0, 1], dtype=tf.complex64)]\n",
    "samples_debil2_11 = qc_debil_cnot.make_full_samples('debil')\n",
    "qc_debil_cnot.in_states = 2 * [tf.constant([1, 0, 0, 0], dtype=tf.complex64)]\n",
    "samples_debil2_00 = qc_debil_cnot.make_full_samples('debil')\n",
    "qc_debil_cnot.in_states = [tf.constant([1, 0, 0, 0], dtype=tf.complex64)] + [tf.constant([0, 0, 0, 1], dtype=tf.complex64)]\n",
    "samples_debil2_01 = qc_debil_cnot.make_full_samples('debil')\n",
    "qc_debil_cnot.in_states = [tf.constant([0, 0, 0, 1], dtype=tf.complex64)] + [tf.constant([1, 0, 0, 0], dtype=tf.complex64)]\n",
    "samples_debil2_10 = qc_debil_cnot.make_full_samples('debil')"
   ]
  },
  {
   "cell_type": "code",
   "execution_count": 24,
   "metadata": {},
   "outputs": [
    {
     "data": {
      "text/plain": [
       "<tf.Tensor: shape=(5, 2), dtype=int32, numpy=\n",
       "array([[0, 0],\n",
       "       [0, 0],\n",
       "       [0, 0],\n",
       "       [0, 0],\n",
       "       [0, 0]])>"
      ]
     },
     "execution_count": 24,
     "metadata": {},
     "output_type": "execute_result"
    }
   ],
   "source": [
    "samples_debil2_00[:5] #00"
   ]
  },
  {
   "cell_type": "code",
   "execution_count": 25,
   "metadata": {},
   "outputs": [
    {
     "data": {
      "text/plain": [
       "<tf.Tensor: shape=(5, 2), dtype=int32, numpy=\n",
       "array([[0, 1],\n",
       "       [0, 1],\n",
       "       [0, 1],\n",
       "       [0, 1],\n",
       "       [0, 1]])>"
      ]
     },
     "execution_count": 25,
     "metadata": {},
     "output_type": "execute_result"
    }
   ],
   "source": [
    "samples_debil2_01[:5] #01"
   ]
  },
  {
   "cell_type": "code",
   "execution_count": 26,
   "metadata": {},
   "outputs": [
    {
     "data": {
      "text/plain": [
       "<tf.Tensor: shape=(5, 2), dtype=int32, numpy=\n",
       "array([[1, 1],\n",
       "       [1, 1],\n",
       "       [1, 1],\n",
       "       [1, 1],\n",
       "       [1, 1]])>"
      ]
     },
     "execution_count": 26,
     "metadata": {},
     "output_type": "execute_result"
    }
   ],
   "source": [
    "samples_debil2_10[:5] #11"
   ]
  },
  {
   "cell_type": "code",
   "execution_count": 27,
   "metadata": {},
   "outputs": [
    {
     "data": {
      "text/plain": [
       "<tf.Tensor: shape=(5, 2), dtype=int32, numpy=\n",
       "array([[1, 0],\n",
       "       [1, 0],\n",
       "       [1, 0],\n",
       "       [1, 0],\n",
       "       [1, 0]])>"
      ]
     },
     "execution_count": 27,
     "metadata": {},
     "output_type": "execute_result"
    }
   ],
   "source": [
    "samples_debil2_11[:5] #10"
   ]
  },
  {
   "cell_type": "code",
   "execution_count": 28,
   "metadata": {},
   "outputs": [],
   "source": [
    "qc_eye = QCEvaluator([big_E_channel], 2)\n",
    "qc_eye.add_circuit(debil_template_cnot, 'idd')\n",
    "qc_eye.in_states = 2 * [tf.constant([0, 0, 0, 1], dtype=tf.complex64)]\n",
    "samples_id_11 = qc_eye.make_full_samples('idd')\n",
    "qc_eye.in_states = 2 * [tf.constant([1, 0, 0, 0], dtype=tf.complex64)]\n",
    "samples_id_00 = qc_eye.make_full_samples('idd')\n",
    "qc_eye.in_states = [tf.constant([1, 0, 0, 0], dtype=tf.complex64)] + [tf.constant([0, 0, 0, 1], dtype=tf.complex64)]\n",
    "samples_id_01 = qc_eye.make_full_samples('idd')\n",
    "qc_eye.in_states = [tf.constant([0, 0, 0, 1], dtype=tf.complex64)] + [tf.constant([1, 0, 0, 0], dtype=tf.complex64)]\n",
    "samples_id_10 = qc_eye.make_full_samples('idd')"
   ]
  },
  {
   "cell_type": "code",
   "execution_count": 29,
   "metadata": {},
   "outputs": [
    {
     "data": {
      "text/plain": [
       "<tf.Tensor: shape=(5, 2), dtype=int32, numpy=\n",
       "array([[1, 0],\n",
       "       [1, 0],\n",
       "       [1, 0],\n",
       "       [1, 0],\n",
       "       [1, 0]])>"
      ]
     },
     "execution_count": 29,
     "metadata": {},
     "output_type": "execute_result"
    }
   ],
   "source": [
    "samples_id_10[:5]"
   ]
  },
  {
   "cell_type": "code",
   "execution_count": null,
   "metadata": {},
   "outputs": [],
   "source": []
  },
  {
   "cell_type": "markdown",
   "metadata": {},
   "source": [
    "## Stuff for testing\n",
    "### Unitary matrices generation"
   ]
  },
  {
   "cell_type": "code",
   "execution_count": 30,
   "metadata": {},
   "outputs": [],
   "source": [
    "u_set = tf.random.normal((3, 4, 4, 2), dtype=tf.float32)\n",
    "u_set = tf.complex(u_set[...,0], u_set[...,1])\n",
    "u_set, _ = tf.linalg.qr(u_set)\n",
    "#print(u_set[0])\n",
    "u_set = tf.reshape(u_set, (3, 2, 2, 2, 2))\n",
    "#print(u_set[0])\n",
    "u_set_channels = tf.concat([c_util.convert_2qmatrix_to_channel(u_set[i])[tf.newaxis] for i in range(3)], axis=0)"
   ]
  },
  {
   "cell_type": "markdown",
   "metadata": {},
   "source": [
    "### Calculating using simple_qc"
   ]
  },
  {
   "cell_type": "code",
   "execution_count": 31,
   "metadata": {},
   "outputs": [],
   "source": [
    "circ = [[u_set[1], [2, 1]], [u_set[0], [1, 0]], [u_set[2], [3, 2]]]\n",
    "#circ = [[u_set[1], [1, 2]], [u_set[0], [0, 1]], [u_set[2], [2, 3]]]\n",
    "help_me = tf.abs(tf.reshape(util.simple_qc(circ, 4), (-1,))) ** 2"
   ]
  },
  {
   "cell_type": "markdown",
   "metadata": {},
   "source": [
    "### Making tensor network template"
   ]
  },
  {
   "cell_type": "code",
   "execution_count": 32,
   "metadata": {},
   "outputs": [],
   "source": [
    "qc_4_c = QCEvaluator(u_set_channels, 4)\n",
    "\n",
    "tn_template_test = [[0] + [1] + [2],\n",
    "[[-2, -1, 5, 1]] + [[6, 5, 3, 2]] + [[-4, -3, 4, 6]], \n",
    "[5, 6],\n",
    "[-i for i in range (1, 5)]]  #-i for i in range (1, 51)]\n",
    "\n",
    "qc_4_c.add_circuit(tn_template_test, 'test_random')\n",
    "full_samples_test = qc_4_c.make_full_samples('test_random', 1000000)"
   ]
  },
  {
   "cell_type": "code",
   "execution_count": 33,
   "metadata": {},
   "outputs": [],
   "source": [
    "#samples_test = qc_4.make_full_samples('test_random', 10)"
   ]
  },
  {
   "cell_type": "code",
   "execution_count": 34,
   "metadata": {},
   "outputs": [],
   "source": [
    "#samples_test"
   ]
  },
  {
   "cell_type": "markdown",
   "metadata": {},
   "source": [
    "### Checking 1) psi^2 (RED) 2) sampling distribution (GREEN) 3) simple psi^2 (BLUE)"
   ]
  },
  {
   "cell_type": "code",
   "execution_count": 35,
   "metadata": {},
   "outputs": [
    {
     "data": {
      "text/plain": [
       "[<matplotlib.lines.Line2D at 0x1dc348f7490>]"
      ]
     },
     "execution_count": 35,
     "metadata": {},
     "output_type": "execute_result"
    },
    {
     "data": {
      "image/png": "[encoded data removed]",
      "text/plain": [
       "<Figure size 432x288 with 1 Axes>"
      ]
     },
     "metadata": {
      "needs_background": "light"
     },
     "output_type": "display_data"
    }
   ],
   "source": [
    "dim4 = tf.constant([2,2,2,2], dtype=tf.int32)\n",
    "\n",
    "indic = tf.unravel_index(indices=tf.range(0, 2 ** 4, delta=1, dtype=None), dims=dim4)\n",
    "true_psi_test = qc_4_c.evaluate(tf.transpose(indic), 'test_random')\n",
    "true_p_test = tf.abs(true_psi_test)\n",
    "\n",
    "counts_test = util.tf_ravel_multi_index(full_samples_test, dim4)\n",
    "counts_test_np = counts_test.numpy()\n",
    "hist_test = tf.math.bincount(counts_test)\n",
    "#trash1, trash2, hist = tf.unique_with_counts(counts_test, out_idx=tf.int64)\n",
    "\n",
    "plt.plot(true_p_test/1, c = 'red') #tf.reduce_sum(true_p_test)\n",
    "#plt.plot(np.histogram(counts_test, bins=16, range=(0, 15), density=True)[0])\n",
    "plt.plot(hist_test / counts_test.shape[0], c = 'green')\n",
    "plt.plot(help_me, c = 'blue')"
   ]
  },
  {
   "cell_type": "code",
   "execution_count": 36,
   "metadata": {},
   "outputs": [
    {
     "data": {
      "text/plain": [
       "<tf.Tensor: shape=(), dtype=float32, numpy=1.0000004>"
      ]
     },
     "execution_count": 36,
     "metadata": {},
     "output_type": "execute_result"
    }
   ],
   "source": [
    "tf.reduce_sum(true_p_test)"
   ]
  },
  {
   "cell_type": "code",
   "execution_count": 37,
   "metadata": {},
   "outputs": [
    {
     "data": {
      "text/plain": [
       "[<matplotlib.lines.Line2D at 0x1dc34d269a0>]"
      ]
     },
     "execution_count": 37,
     "metadata": {},
     "output_type": "execute_result"
    },
    {
     "data": {
      "image/png": "[encoded data removed]",
      "text/plain": [
       "<Figure size 432x288 with 1 Axes>"
      ]
     },
     "metadata": {
      "needs_background": "light"
     },
     "output_type": "display_data"
    }
   ],
   "source": [
    "plt.plot(true_p_test - help_me)"
   ]
  },
  {
   "cell_type": "code",
   "execution_count": 38,
   "metadata": {},
   "outputs": [],
   "source": [
    "sample_p = tf.cast(hist_test / counts_test.shape[0], dtype=tf.float32)"
   ]
  },
  {
   "cell_type": "code",
   "execution_count": 39,
   "metadata": {},
   "outputs": [
    {
     "data": {
      "text/plain": [
       "[<matplotlib.lines.Line2D at 0x1dc3614b0d0>]"
      ]
     },
     "execution_count": 39,
     "metadata": {},
     "output_type": "execute_result"
    },
    {
     "data": {
      "image/png": "[encoded data removed]",
      "text/plain": [
       "<Figure size 432x288 with 1 Axes>"
      ]
     },
     "metadata": {
      "needs_background": "light"
     },
     "output_type": "display_data"
    }
   ],
   "source": [
    "plt.plot(true_p_test - sample_p)"
   ]
  },
  {
   "cell_type": "code",
   "execution_count": 40,
   "metadata": {},
   "outputs": [
    {
     "data": {
      "text/plain": [
       "[<matplotlib.lines.Line2D at 0x1dc36162d00>]"
      ]
     },
     "execution_count": 40,
     "metadata": {},
     "output_type": "execute_result"
    },
    {
     "data": {
      "image/png": "[encoded data removed]",
      "text/plain": [
       "<Figure size 432x288 with 1 Axes>"
      ]
     },
     "metadata": {
      "needs_background": "light"
     },
     "output_type": "display_data"
    }
   ],
   "source": [
    "plt.plot(help_me - sample_p)"
   ]
  }
 ],
 "metadata": {
  "kernelspec": {
   "display_name": "Python 3",
   "language": "python",
   "name": "python3"
  },
  "language_info": {
   "codemirror_mode": {
    "name": "ipython",
    "version": 3
   },
   "file_extension": ".py",
   "mimetype": "text/x-python",
   "name": "python",
   "nbconvert_exporter": "python",
   "pygments_lexer": "ipython3",
   "version": "3.8.5"
  }
 },
 "nbformat": 4,
 "nbformat_minor": 4
}
