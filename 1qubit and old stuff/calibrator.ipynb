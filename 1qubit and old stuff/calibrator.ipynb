{
 "cells": [
  {
   "cell_type": "markdown",
   "metadata": {},
   "source": [
    "## basic things"
   ]
  },
  {
   "cell_type": "code",
   "execution_count": 1,
   "metadata": {},
   "outputs": [],
   "source": [
    "import numpy as np\n",
    "import math\n",
    "import cmath\n",
    "import random\n",
    "import scipy.linalg"
   ]
  },
  {
   "cell_type": "code",
   "execution_count": 2,
   "metadata": {},
   "outputs": [],
   "source": [
    "def matr_Ry(angle):\n",
    "    return np.array([[math.cos(angle/2), -math.sin(angle/2)],\n",
    "              [+math.sin(angle/2), math.cos(angle/2)]])"
   ]
  },
  {
   "cell_type": "code",
   "execution_count": 3,
   "metadata": {},
   "outputs": [],
   "source": [
    "def matr_Rx(angle):\n",
    "    return np.array([[math.cos(angle/2), -1j * math.sin(angle/2)],\n",
    "              [-1j * math.sin(angle/2), math.cos(angle/2)]])"
   ]
  },
  {
   "cell_type": "code",
   "execution_count": 4,
   "metadata": {},
   "outputs": [],
   "source": [
    "def matr_Rz(angle):\n",
    "    return np.array([[math.cos(angle/2) - 1j * math.sin(angle/2), 0],\n",
    "              [0, math.cos(angle/2) + 1j * math.sin(angle/2)]])"
   ]
  },
  {
   "cell_type": "code",
   "execution_count": 5,
   "metadata": {},
   "outputs": [],
   "source": [
    "RxRy = matr_Rx(math.pi/2) @ matr_Ry(math.pi/2)\n",
    "big_U_br1 = 2 * np.kron(RxRy, np.conj(RxRy))\n",
    "big_U_br2 = 2 * np.kron(np.conj(RxRy), RxRy)"
   ]
  },
  {
   "cell_type": "markdown",
   "metadata": {},
   "source": [
    "## noising procedures ##"
   ]
  },
  {
   "cell_type": "code",
   "execution_count": 6,
   "metadata": {},
   "outputs": [],
   "source": [
    "def random_rotation(M):\n",
    "    phase1 = random.uniform(-math.pi/10, math.pi/10)\n",
    "    phase2 = random.uniform(-math.pi/10, math.pi/10)\n",
    "    print (\"Noising is made by Rx(\", round((phase1/math.pi), 5), \"pi) @ U @ Ry(\", round((phase2/math.pi), 5), \"pi)\")\n",
    "    return matr_Rx(phase1) @ M @ matr_Rx(phase2)"
   ]
  },
  {
   "cell_type": "code",
   "execution_count": 7,
   "metadata": {},
   "outputs": [],
   "source": [
    "def depolarizing(big_M):\n",
    "    p = random.uniform(0.25, 0.5)\n",
    "    #p = 1.0\n",
    "    PauliY = np.array([[0, -1j],\n",
    "              [1j, 0]])\n",
    "    PauliX = np.array([[0, 1],\n",
    "              [1, 0]])\n",
    "    PauliZ = np.array([[1, 0],\n",
    "              [0, -1]])\n",
    "    print (\"Noising is made by depolarising channel with p =\", round(p, 5))\n",
    "    channel = np.diag([1, 1, 1, 1]) * (1 - 3*p/4) + p/4 * (np.kron(PauliY, PauliY) + np.kron(PauliX, PauliX) + np.kron(PauliZ, PauliZ))\n",
    "    #print(\"Just in case: depolar looks like\\n\", channel)\n",
    "    #print(\"Just in case: new UxU* is\", channel @ big_M)\n",
    "    return channel @ big_M"
   ]
  },
  {
   "cell_type": "code",
   "execution_count": 8,
   "metadata": {},
   "outputs": [],
   "source": [
    "def wrong_unitary(M):\n",
    "    PauliY = np.array([[0, -1j],\n",
    "              [1j, 0]])\n",
    "    PauliX = np.array([[0, 1],\n",
    "              [1, 0]])\n",
    "    PauliZ = np.array([[1, 0],\n",
    "              [0, -1]])\n",
    "    E = np.diag([1, 1])\n",
    "    pE = random.uniform(-0.2, 0.2)\n",
    "    pX = random.uniform(-0.1, 0.1)\n",
    "    pY = random.uniform(-0.1, 0.1)\n",
    "    pZ = random.uniform(-0.1, 0.1)\n",
    "    print (\"Noising is made by exp(iH) @ U; H =\",round(pE, 5) ,\"E +\",round(pX, 5), \"X +\",round(pY, 5), \"Y +\",round(pZ, 5) ,\"Z\")\n",
    "    H = pE * E + pX * PauliX + pY * PauliY + pZ * PauliZ\n",
    "    return scipy.linalg.expm(H * 1j) @ M \n",
    "    "
   ]
  },
  {
   "cell_type": "markdown",
   "metadata": {},
   "source": [
    "## functions for calibration "
   ]
  },
  {
   "cell_type": "code",
   "execution_count": 9,
   "metadata": {},
   "outputs": [],
   "source": [
    "def reveal_cal_parameters(M):\n",
    "    angle = cmath.phase(M[1, 0]) \n",
    "    flipped = True if (np.imag(M[1, 1]) > 0) else False\n",
    "    return angle, flipped"
   ]
  },
  {
   "cell_type": "code",
   "execution_count": 10,
   "metadata": {},
   "outputs": [],
   "source": [
    "def get_more_precise_angle(M):\n",
    "    angles = []\n",
    "    angles.append(cmath.phase(M[1, 0]))\n",
    "    angles.append(-cmath.phase(M[2, 0]))\n",
    "    angles.append(cmath.phase(-M[1, 3]))\n",
    "    angles.append(-cmath.phase(-M[2, 3]))\n",
    "    angles.append(-cmath.phase(-M[0, 1] * 1j))\n",
    "    angles.append(cmath.phase(M[0, 2] * 1j))\n",
    "    angles.append(-cmath.phase(M[3, 1] * 1j))\n",
    "    angles.append(cmath.phase(-M[3, 2] * 1j))\n",
    "    angles.append(cmath.phase(M[1, 2] * 1j)/2)\n",
    "    angles.append(-cmath.phase(-M[2, 1] * 1j)/2)\n",
    "    #print(angles)\n",
    "    return np.mean(angles)"
   ]
  },
  {
   "cell_type": "code",
   "execution_count": 11,
   "metadata": {},
   "outputs": [],
   "source": [
    "def calibrate_set(M_set, angle, flip):\n",
    "    if (flip == True): #Remember, in flipped scenario angle comes with '-' sign\n",
    "        M_set = np.conj(M_set) #but if U = [Rz1 @ U0* @ Rz2] that means U* = [Rz1* @ U0 @ Rz2*] and angles here are reversed too\n",
    "    for i in np.arange(0, len(M_set)): #for implemention makes me cringe\n",
    "        M_set[i] = matr_Rz(angle) @ M_set[i] @ matr_Rz(-angle)\n",
    "    return M_set    "
   ]
  },
  {
   "cell_type": "markdown",
   "metadata": {},
   "source": [
    "## Calibration testing procedures"
   ]
  },
  {
   "cell_type": "markdown",
   "metadata": {},
   "source": [
    "### Noise 1: random rotations"
   ]
  },
  {
   "cell_type": "code",
   "execution_count": 12,
   "metadata": {},
   "outputs": [
    {
     "name": "stdout",
     "output_type": "stream",
     "text": [
      "Noising is made by Rx( 0.06309 pi) @ U @ Ry( -0.09812 pi)\n"
     ]
    }
   ],
   "source": [
    "U = random_rotation(RxRy)\n",
    "UxU = 2 * np.kron(U, np.conj(U))"
   ]
  },
  {
   "cell_type": "markdown",
   "metadata": {},
   "source": [
    "### Noise 2: depolarizing channel"
   ]
  },
  {
   "cell_type": "code",
   "execution_count": 13,
   "metadata": {},
   "outputs": [
    {
     "name": "stdout",
     "output_type": "stream",
     "text": [
      "Noising is made by depolarising channel with p = 0.38978\n"
     ]
    }
   ],
   "source": [
    "U = RxRy\n",
    "UxU = 2 * np.kron(U, np.conj(U))\n",
    "UxU = depolarizing(UxU)"
   ]
  },
  {
   "cell_type": "markdown",
   "metadata": {},
   "source": [
    "### Noise 3: random hamiltonian"
   ]
  },
  {
   "cell_type": "code",
   "execution_count": 14,
   "metadata": {},
   "outputs": [
    {
     "name": "stdout",
     "output_type": "stream",
     "text": [
      "Noising is made by exp(iH) @ U; H = 0.19894 E + 0.08904 X + -0.03632 Y + 0.04518 Z\n"
     ]
    }
   ],
   "source": [
    "U = RxRy\n",
    "U = wrong_unitary(U)\n",
    "UxU = 2 * np.kron(U, np.conj(U))"
   ]
  },
  {
   "cell_type": "markdown",
   "metadata": {},
   "source": [
    "### Testing"
   ]
  },
  {
   "cell_type": "code",
   "execution_count": 15,
   "metadata": {},
   "outputs": [
    {
     "name": "stdout",
     "output_type": "stream",
     "text": [
      "1th step: we think the angle is 0.09647139327279271 and param CONJUGATED is False\n",
      "2nd step: probably more precise angle is -0.04245606170208531\n"
     ]
    }
   ],
   "source": [
    "angle0, flip = reveal_cal_parameters(UxU)\n",
    "if (flip): \n",
    "    UxU = np.conj(UxU)\n",
    "angle1 = get_more_precise_angle(UxU)\n",
    "\n",
    "print (\"1th step: we think the angle is\", angle0, \"and param CONJUGATED is\", flip)\n",
    "print (\"2nd step: probably more precise angle is\", angle1)"
   ]
  },
  {
   "cell_type": "markdown",
   "metadata": {},
   "source": [
    "## Full set calibration"
   ]
  },
  {
   "cell_type": "code",
   "execution_count": 16,
   "metadata": {},
   "outputs": [
    {
     "name": "stdout",
     "output_type": "stream",
     "text": [
      "0.3919660308051893\n"
     ]
    }
   ],
   "source": [
    "pure_U_set = [matr_Rx(math.pi/2), matr_Ry(math.pi/2)]\n",
    "rand_rot = random.uniform(-math.pi/2, math.pi/2)\n",
    "print(rand_rot)"
   ]
  },
  {
   "cell_type": "code",
   "execution_count": 17,
   "metadata": {},
   "outputs": [],
   "source": [
    "U_set = [matr_Rz(-rand_rot) @ np.conj(matr_Rx(math.pi/2)) @ matr_Rz(rand_rot), matr_Rz(-rand_rot) @ matr_Ry(math.pi/2) @ matr_Rz(+rand_rot)]"
   ]
  },
  {
   "cell_type": "code",
   "execution_count": 18,
   "metadata": {},
   "outputs": [
    {
     "name": "stdout",
     "output_type": "stream",
     "text": [
      "0.39196603080518927 False\n"
     ]
    }
   ],
   "source": [
    "U = U_set[0] @ U_set[1]\n",
    "UxU = 2 * np.kron(U, np.conj(U)) #UxU actually means UxU*\n",
    "angle0, flip = reveal_cal_parameters(UxU)\n",
    "if (flip): \n",
    "    UxU = np.conj(UxU)\n",
    "angle1 = get_more_precise_angle(UxU) #angle is reversed if we need to complex conjugate because we made CONJ on UxU \n",
    "#CONJ on flipped UxU* is CONJ on ([Rz1 @ U0* @ Rz2] x [Rz1* @ U0 @ Rz2*]]) = [Rz1* @ U0 @ Rz2*] x [Rz1 @ U0* @ Rz2]]\n",
    "#Because the procedure is trained on U0, this is easier but yields a minus sign\n",
    "print(angle1, flip) \n",
    "#Solution: one more \"if\" which makes angle1 = -angle1 if (flip). It is for the weak AND does not work properly\n",
    "new_U_set = calibrate_set(U_set, angle1, flip) #the strong account for reversed angle inside calibration function  "
   ]
  },
  {
   "cell_type": "code",
   "execution_count": 19,
   "metadata": {},
   "outputs": [
    {
     "name": "stdout",
     "output_type": "stream",
     "text": [
      "[[ 0.70710678+0.j          0.        -0.70710678j]\n",
      " [-0.        -0.70710678j  0.70710678-0.j        ]]\n",
      "[[ 0.70710678+0.j -0.70710678-0.j]\n",
      " [ 0.70710678-0.j  0.70710678-0.j]]\n"
     ]
    }
   ],
   "source": [
    "print(new_U_set[0].round(8))\n",
    "print(new_U_set[1].round(8))"
   ]
  },
  {
   "cell_type": "code",
   "execution_count": 20,
   "metadata": {},
   "outputs": [
    {
     "data": {
      "text/plain": [
       "[array([[0.70710678+0.j        , 0.        -0.70710678j],\n",
       "        [0.        -0.70710678j, 0.70710678+0.j        ]]),\n",
       " array([[ 0.70710678, -0.70710678],\n",
       "        [ 0.70710678,  0.70710678]])]"
      ]
     },
     "execution_count": 20,
     "metadata": {},
     "output_type": "execute_result"
    }
   ],
   "source": [
    "pure_U_set"
   ]
  },
  {
   "cell_type": "code",
   "execution_count": null,
   "metadata": {},
   "outputs": [],
   "source": []
  }
 ],
 "metadata": {
  "kernelspec": {
   "display_name": "Python 3",
   "language": "python",
   "name": "python3"
  },
  "language_info": {
   "codemirror_mode": {
    "name": "ipython",
    "version": 3
   },
   "file_extension": ".py",
   "mimetype": "text/x-python",
   "name": "python",
   "nbconvert_exporter": "python",
   "pygments_lexer": "ipython3",
   "version": "3.8.5"
  }
 },
 "nbformat": 4,
 "nbformat_minor": 4
}
