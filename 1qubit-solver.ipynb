{
 "cells": [
  {
   "cell_type": "markdown",
   "metadata": {},
   "source": [
    "## Basic functions"
   ]
  },
  {
   "cell_type": "code",
   "execution_count": 1,
   "metadata": {},
   "outputs": [],
   "source": [
    "import tensorflow as tf  # tf 2.x\n",
    "import matplotlib.pyplot as plt\n",
    "import math\n",
    "import numpy as np\n",
    "from numpy.random import choice\n",
    "\n",
    "try:\n",
    "    import QGOpt as qgo\n",
    "except ImportError:\n",
    "    !pip install git+https://github.com/LuchnikovI/QGOpt\n",
    "    import QGOpt as qgo"
   ]
  },
  {
   "cell_type": "code",
   "execution_count": 2,
   "metadata": {},
   "outputs": [],
   "source": [
    "def matr_Ry(angle):\n",
    "    return np.array([[math.cos(angle/2), -math.sin(angle/2)],\n",
    "              [+math.sin(angle/2), math.cos(angle/2)]])\n",
    "\n",
    "def matr_Rx(angle):\n",
    "    return np.array([[math.cos(angle/2), -1j * math.sin(angle/2)],\n",
    "              [-1j * math.sin(angle/2), math.cos(angle/2)]])"
   ]
  },
  {
   "cell_type": "code",
   "execution_count": 3,
   "metadata": {},
   "outputs": [],
   "source": [
    "def kron(A, B):\n",
    "    \"\"\"\n",
    "    Returns Kronecker product of two square matrices.\n",
    "\n",
    "    Args:\n",
    "        A: complex valued tf tensor of shape (dim1, dim1)\n",
    "        B: complex valued tf tensor of shape (dim2, dim2)\n",
    "\n",
    "    Returns:\n",
    "        complex valued tf tensor of shape (dim1 * dim2, dim1 * dim2),\n",
    "        kronecker product of two matrices\n",
    "    \"\"\"\n",
    "\n",
    "    dim1 = A.shape[-1]\n",
    "    dim2 = B.shape[-1]\n",
    "    AB = tf.transpose(tf.tensordot(A, B, axes=0), (0, 2, 1, 3))\n",
    "    return tf.reshape(AB, (dim1 * dim2, dim1 * dim2))"
   ]
  },
  {
   "cell_type": "markdown",
   "metadata": {},
   "source": [
    "A convenient way to present circuits is to create an array which will encode the sequence of gates into the sequence of ints. This is especially useful in the 1-qubit case, when you simply have several martices which act on the qubit one-by-one. "
   ]
  },
  {
   "cell_type": "markdown",
   "metadata": {},
   "source": [
    "The right way is to work with sets of gates rather than circuits. That means we need to define one pure set of gates and their noised versions for each qubit. 'big_unitary_bank' is going to be our workspace, one which we will make our variable u and change with each iteration. As for now, 'big_unitary_bank' has only one row - because we have only one qubit. The array 'true_unitary_bank' holds answers to our task; we hope that with iterations we will get 'big_unitary_bank' as close to 'true_unitary_bank' as possible."
   ]
  },
  {
   "cell_type": "code",
   "execution_count": 4,
   "metadata": {},
   "outputs": [],
   "source": [
    "set_length = 4\n",
    "# 0 - Rx(pi/2)\n",
    "# 1 - Ry(pi/2)\n",
    "# 2 - Rx(pi/4)\n",
    "# 3 - Rx(pi/8)"
   ]
  },
  {
   "cell_type": "code",
   "execution_count": 5,
   "metadata": {},
   "outputs": [],
   "source": [
    "big_unitary_bank = []\n",
    "pure_unitary_set = np.empty(shape=(set_length, 2, 2), dtype = 'complex_')\n",
    "pure_unitary_set[0] = matr_Rx(math.pi/2)\n",
    "pure_unitary_set[1] = matr_Ry(math.pi/2)\n",
    "pure_unitary_set[2] = matr_Rx(math.pi/4)\n",
    "pure_unitary_set[3] = matr_Rx(math.pi/8)\n",
    "\n",
    "qubit_noised_set = pure_unitary_set.copy()\n",
    "big_unitary_bank.append(qubit_noised_set)"
   ]
  },
  {
   "cell_type": "code",
   "execution_count": 6,
   "metadata": {},
   "outputs": [],
   "source": [
    "true_unitary_bank = []\n",
    "true_noised_set = pure_unitary_set.copy()\n",
    "\n",
    "#NOISING OF THE SET\n",
    "\n",
    "true_noised_set[2] = np.diag((1, 1))\n",
    "\n",
    "#NOISING DONE\n",
    "\n",
    "true_unitary_bank.append(true_noised_set)"
   ]
  },
  {
   "cell_type": "markdown",
   "metadata": {},
   "source": [
    "For now, we imply a restriction: even though we have some noise, our noisy gates are still considered unitary. In the future versions of this code, we need to work with Choi matrices that represent arbitrary quantum channels instead."
   ]
  },
  {
   "cell_type": "code",
   "execution_count": 7,
   "metadata": {},
   "outputs": [],
   "source": [
    "m = qgo.manifolds.StiefelManifold()"
   ]
  },
  {
   "cell_type": "markdown",
   "metadata": {},
   "source": [
    "Since we have only one qubit, the circuit can be written as a single row of 2x2 matrices. The '1d' in function indicates that these functions build only one row of sinqle-qubit gates."
   ]
  },
  {
   "cell_type": "code",
   "execution_count": 8,
   "metadata": {},
   "outputs": [],
   "source": [
    "def build_1d_circuit_from_map(array, qubit):\n",
    "    a = np.empty(shape=(len(array), 2, 2), dtype = 'complex_')\n",
    "    for i in np.arange(len(array)):\n",
    "        a[i] = big_unitary_bank[qubit][array[i]]       \n",
    "    return a\n",
    "\n",
    "def build_1d_true_circuit_from_map(array, qubit):\n",
    "    a = np.empty(shape=(len(array), 2, 2), dtype = 'complex_')\n",
    "    for i in np.arange(len(array)):\n",
    "        a[i] = true_unitary_bank[qubit][array[i]]       \n",
    "    return a"
   ]
  },
  {
   "cell_type": "markdown",
   "metadata": {},
   "source": [
    "These functions take array of ints and convert them to an array of 2x2 matrices represenging gates. The first function will be called at each optimization iteration and will re-build the circuit from new version of 'big_unitary_bank'. The second one is not needed in real program; it's called once to generate samples the user should provide in normal circumstances."
   ]
  },
  {
   "cell_type": "markdown",
   "metadata": {},
   "source": [
    "## Circuit maps initialization"
   ]
  },
  {
   "cell_type": "markdown",
   "metadata": {},
   "source": [
    "The circuit structure has changed. Right now it has only three indices:\n",
    "1) Number of the gate in the circuit (in multi-qubit version this has to be marked with two numbers when the circuits will have more than one line) <br>\n",
    "2) & 3) are indices for locating the matrix element in the unitary gate.\n",
    "\n",
    "We're not working anymore with one HUGE array that stores all the circuits: we have circuits_map for this now.\n",
    "'circuits_map' has two indices:\n",
    "1) circuit number <br>\n",
    "2) Number of the gate in the circuit <br>\n",
    "'circuits_map' stores ints instead of 2x2 matrices, but this int is actually a reference to 2x2 matrix in 'big_unitary_bank'"
   ]
  },
  {
   "cell_type": "code",
   "execution_count": 9,
   "metadata": {},
   "outputs": [],
   "source": [
    "circuits_map = []\n",
    "#circuits_map.append([0, 1])\n",
    "circuits_map.append([0, 1, 2])\n",
    "#circuits_map.append([0, 1, 0])\n",
    "#circuits_map.append([2])"
   ]
  },
  {
   "cell_type": "code",
   "execution_count": 10,
   "metadata": {},
   "outputs": [],
   "source": [
    "ideal_circuits_representation = []\n",
    "for circ_number in np.arange(len(circuits_map)):\n",
    "    ideal_circuits_representation.append(build_1d_circuit_from_map(circuits_map[circ_number], 0)) \n",
    "    #we use the fact that big_unitary_bank is not noised yet so we can use function build_1d_circuit_from_map\n",
    "    #ideal_circuits_representation stores ideal versions of our gates in the 2x2 matrix form"
   ]
  },
  {
   "cell_type": "markdown",
   "metadata": {},
   "source": [
    "Instead of having three copies of circuits mega-array, we're working with one circuit at a time, which we'll rebuild at each optimization step using the 'build_1d_circuit_from_map' function."
   ]
  },
  {
   "cell_type": "markdown",
   "metadata": {},
   "source": [
    "Still, we will have one ideal mega-array stored not in terms of ints but in terms of 2x2 matrices so it will be easier and faster to compute matrix norm"
   ]
  },
  {
   "cell_type": "markdown",
   "metadata": {},
   "source": [
    "## Sample initialization"
   ]
  },
  {
   "cell_type": "markdown",
   "metadata": {},
   "source": [
    "This function should emulate 1000 circuits applied to a state |0>. In single-qubit version it's easy to do so because we can just multiply every matrix and then look at the top row of our 2x2 matrix. These two numbers will define the probability of yielding the state |0> or |1> as the result."
   ]
  },
  {
   "cell_type": "code",
   "execution_count": 11,
   "metadata": {},
   "outputs": [],
   "source": [
    "def generate_samples(circs_map):\n",
    "    samples = []\n",
    "    for it in np.arange(len(circs_map)): #we iterate over circuits\n",
    "        sample = []\n",
    "        circ_map = circs_map[it]\n",
    "        uc = build_1d_true_circuit_from_map(circ_map, 0) #0 here means we take the gates accosiated with 1st qubit\n",
    "        big_u = np.diag((1, 1))\n",
    "        for j in np.arange(len(uc)):\n",
    "            big_u = big_u @ uc[j]\n",
    "        probs = abs(big_u[0])/sum(abs(big_u[0]))\n",
    "        for _ in np.arange(1000):\n",
    "            sample.append(choice((0, 1), 1, p=probs))\n",
    "        samples.append(sample)\n",
    "    \n",
    "    return samples"
   ]
  },
  {
   "cell_type": "code",
   "execution_count": 12,
   "metadata": {},
   "outputs": [],
   "source": [
    "samples = generate_samples(circuits_map)"
   ]
  },
  {
   "cell_type": "markdown",
   "metadata": {},
   "source": [
    "## Working with the optimizer"
   ]
  },
  {
   "cell_type": "markdown",
   "metadata": {},
   "source": [
    "Now we prepare the variables as written in guide and try to input this in our optimizer."
   ]
  },
  {
   "cell_type": "code",
   "execution_count": 13,
   "metadata": {},
   "outputs": [],
   "source": [
    "u = qgo.manifolds.complex_to_real(big_unitary_bank)"
   ]
  },
  {
   "cell_type": "code",
   "execution_count": 14,
   "metadata": {},
   "outputs": [],
   "source": [
    "u = tf.Variable(u)"
   ]
  },
  {
   "cell_type": "code",
   "execution_count": 15,
   "metadata": {},
   "outputs": [],
   "source": [
    "lr = 0.02 #optimization step size\n",
    "opt = qgo.optimizers.RAdam(m, lr)"
   ]
  },
  {
   "cell_type": "markdown",
   "metadata": {},
   "source": [
    "In our model we need to get logarithm of probability that we got the correct gates. Since this is calculated via multiplication of probabilities to obtain each sample, we can just sum the ln(probability[i-th sample]) for i = 0..999.\n",
    "The probability itself is easy to check since our final operator is a product of 2x2 matrices multilpication. Then we just look at <sample_bit| (u0 @ u1 @ ... @ uN) |0> which is the same as abs of the matrix element "
   ]
  },
  {
   "cell_type": "code",
   "execution_count": 16,
   "metadata": {},
   "outputs": [],
   "source": [
    "def get_log_probability(row_of_unitaries, sample_num, circ_num):\n",
    "    bit_string = samples[circ_num][sample_num] #it = circuit number, i - number of sample\n",
    "    indexx = bit_string[0] #yes this is retarded the 'bit_string' is an array of 1 element \n",
    "    #but when the bit string becomes string instead of a single nubmer this will become logical\n",
    "    big_u = np.diag((1, 1))\n",
    "    for j in np.arange(len(row_of_unitaries)):\n",
    "        big_u = big_u @ row_of_unitaries[j]\n",
    "    #Because our qubit is affected only by single-qubit operations, we can calculate each qubit independently\n",
    "    #That means the probability^2 is just gonna be |big_u[bit_string][0]|^2\n",
    "    #print(big_u[bit_string[0]][0])\n",
    "    #print (big_u)\n",
    "    if (abs(big_u[indexx][0]) == 0):\n",
    "        return -100\n",
    "    else:\n",
    "        return math.log(abs(big_u[indexx][0]))"
   ]
  },
  {
   "cell_type": "code",
   "execution_count": 18,
   "metadata": {},
   "outputs": [
    {
     "name": "stdout",
     "output_type": "stream",
     "text": [
      "tf.Tensor(1055.585495406282, shape=(), dtype=float64)\n",
      "grad =  None\n"
     ]
    },
    {
     "ename": "ValueError",
     "evalue": "No gradients provided for any variable: ['Variable:0'].",
     "output_type": "error",
     "traceback": [
      "\u001b[1;31m---------------------------------------------------------------------------\u001b[0m",
      "\u001b[1;31mValueError\u001b[0m                                Traceback (most recent call last)",
      "\u001b[1;32m<ipython-input-18-6311f428e2d9>\u001b[0m in \u001b[0;36m<module>\u001b[1;34m\u001b[0m\n\u001b[0;32m     37\u001b[0m     \u001b[0mprint\u001b[0m\u001b[1;33m(\u001b[0m\u001b[1;34m'grad = '\u001b[0m\u001b[1;33m,\u001b[0m \u001b[0mgrad\u001b[0m\u001b[1;33m)\u001b[0m\u001b[1;33m\u001b[0m\u001b[1;33m\u001b[0m\u001b[0m\n\u001b[0;32m     38\u001b[0m     \u001b[1;31m# optimization step\u001b[0m\u001b[1;33m\u001b[0m\u001b[1;33m\u001b[0m\u001b[1;33m\u001b[0m\u001b[0m\n\u001b[1;32m---> 39\u001b[1;33m     \u001b[0mopt\u001b[0m\u001b[1;33m.\u001b[0m\u001b[0mapply_gradients\u001b[0m\u001b[1;33m(\u001b[0m\u001b[0mzip\u001b[0m\u001b[1;33m(\u001b[0m\u001b[1;33m[\u001b[0m\u001b[0mgrad\u001b[0m\u001b[1;33m]\u001b[0m\u001b[1;33m,\u001b[0m \u001b[1;33m[\u001b[0m\u001b[0mu\u001b[0m\u001b[1;33m]\u001b[0m\u001b[1;33m)\u001b[0m\u001b[1;33m)\u001b[0m\u001b[1;33m\u001b[0m\u001b[1;33m\u001b[0m\u001b[0m\n\u001b[0m",
      "\u001b[1;32mF:\\conda\\conda3\\envs\\tf\\lib\\site-packages\\tensorflow\\python\\keras\\optimizer_v2\\optimizer_v2.py\u001b[0m in \u001b[0;36mapply_gradients\u001b[1;34m(self, grads_and_vars, name, experimental_aggregate_gradients)\u001b[0m\n\u001b[0;32m    511\u001b[0m       \u001b[0mValueError\u001b[0m\u001b[1;33m:\u001b[0m \u001b[0mIf\u001b[0m \u001b[0mnone\u001b[0m \u001b[0mof\u001b[0m \u001b[0mthe\u001b[0m \u001b[0mvariables\u001b[0m \u001b[0mhave\u001b[0m \u001b[0mgradients\u001b[0m\u001b[1;33m.\u001b[0m\u001b[1;33m\u001b[0m\u001b[1;33m\u001b[0m\u001b[0m\n\u001b[0;32m    512\u001b[0m     \"\"\"\n\u001b[1;32m--> 513\u001b[1;33m     \u001b[0mgrads_and_vars\u001b[0m \u001b[1;33m=\u001b[0m \u001b[0m_filter_grads\u001b[0m\u001b[1;33m(\u001b[0m\u001b[0mgrads_and_vars\u001b[0m\u001b[1;33m)\u001b[0m\u001b[1;33m\u001b[0m\u001b[1;33m\u001b[0m\u001b[0m\n\u001b[0m\u001b[0;32m    514\u001b[0m     \u001b[0mvar_list\u001b[0m \u001b[1;33m=\u001b[0m \u001b[1;33m[\u001b[0m\u001b[0mv\u001b[0m \u001b[1;32mfor\u001b[0m \u001b[1;33m(\u001b[0m\u001b[0m_\u001b[0m\u001b[1;33m,\u001b[0m \u001b[0mv\u001b[0m\u001b[1;33m)\u001b[0m \u001b[1;32min\u001b[0m \u001b[0mgrads_and_vars\u001b[0m\u001b[1;33m]\u001b[0m\u001b[1;33m\u001b[0m\u001b[1;33m\u001b[0m\u001b[0m\n\u001b[0;32m    515\u001b[0m \u001b[1;33m\u001b[0m\u001b[0m\n",
      "\u001b[1;32mF:\\conda\\conda3\\envs\\tf\\lib\\site-packages\\tensorflow\\python\\keras\\optimizer_v2\\optimizer_v2.py\u001b[0m in \u001b[0;36m_filter_grads\u001b[1;34m(grads_and_vars)\u001b[0m\n\u001b[0;32m   1268\u001b[0m   \u001b[0mfiltered\u001b[0m \u001b[1;33m=\u001b[0m \u001b[0mtuple\u001b[0m\u001b[1;33m(\u001b[0m\u001b[0mfiltered\u001b[0m\u001b[1;33m)\u001b[0m\u001b[1;33m\u001b[0m\u001b[1;33m\u001b[0m\u001b[0m\n\u001b[0;32m   1269\u001b[0m   \u001b[1;32mif\u001b[0m \u001b[1;32mnot\u001b[0m \u001b[0mfiltered\u001b[0m\u001b[1;33m:\u001b[0m\u001b[1;33m\u001b[0m\u001b[1;33m\u001b[0m\u001b[0m\n\u001b[1;32m-> 1270\u001b[1;33m     raise ValueError(\"No gradients provided for any variable: %s.\" %\n\u001b[0m\u001b[0;32m   1271\u001b[0m                      ([v.name for _, v in grads_and_vars],))\n\u001b[0;32m   1272\u001b[0m   \u001b[1;32mif\u001b[0m \u001b[0mvars_with_empty_grads\u001b[0m\u001b[1;33m:\u001b[0m\u001b[1;33m\u001b[0m\u001b[1;33m\u001b[0m\u001b[0m\n",
      "\u001b[1;31mValueError\u001b[0m: No gradients provided for any variable: ['Variable:0']."
     ]
    }
   ],
   "source": [
    "# this list will be filled by value of\n",
    "# error per iteration\n",
    "err_vs_iter = []\n",
    "\n",
    "#sigma is a parameter for gaussian regularization\n",
    "sigma = 1 \n",
    "\n",
    "# optimization loop\n",
    "for _ in range(100):\n",
    "    with tf.GradientTape() as tape:\n",
    "        # turning u back into its complex representation\n",
    "        big_unitary_bank = qgo.manifolds.real_to_complex(u) \n",
    "        L_reg = 0\n",
    "        L_1 = 0\n",
    "        \n",
    "        for it in np.arange(len(circuits_map)): #we iterate with variable 'it' over CIRCUITS \n",
    "            circuit = build_1d_circuit_from_map(circuits_map[it], 0)\n",
    "            ideal_circuit = ideal_circuits_representation[it]\n",
    "            # Regularization (1st term)\n",
    "            for i in np.arange(len(circuit)): #we iterate with variable 'i' over GATES in a circuit \n",
    "                L_reg += tf.linalg.norm(circuit[i] - ideal_circuit[i]) / 2\n",
    "                #print('add Lreg', i, it)\n",
    "        \n",
    "            # loss function (2nd term)\n",
    "            for i in np.arange(len(samples[it])): #we iterate with variable 'i' over 1000 SAMPLES related to a circuit 'it' \n",
    "                L_1 += 2 * get_log_probability(circuit, i, it)\n",
    "                #print('add L1', i, it)\n",
    "        \n",
    "        #print('Reg =', tf.math.real(L_reg / sigma), 'Func =', L_1, '\\n')\n",
    "        L = tf.math.real(L_reg / sigma - L_1) #we wanted to MAXIMIZE (log_prob - reg) => we MINIMIZE (reg - log_prob)\n",
    "        print(L)\n",
    "        \n",
    "    # filling list with history of error\n",
    "    err_vs_iter.append(L)\n",
    "    # gradient from tape\n",
    "    grad = tape.gradient(L, u)\n",
    "    print('grad = ', grad)\n",
    "    # optimization step\n",
    "    opt.apply_gradients(zip([grad], [u]))"
   ]
  },
  {
   "cell_type": "code",
   "execution_count": null,
   "metadata": {},
   "outputs": [],
   "source": [
    "plt.plot(err_vs_iter)\n",
    "plt.yscale('log')\n",
    "plt.xlabel('iter')\n",
    "plt.ylabel('err')"
   ]
  },
  {
   "cell_type": "code",
   "execution_count": null,
   "metadata": {},
   "outputs": [],
   "source": [
    "big_unitary_bank = qgo.manifolds.real_to_complex(u)"
   ]
  },
  {
   "cell_type": "code",
   "execution_count": null,
   "metadata": {},
   "outputs": [],
   "source": [
    "big_unitary_bank"
   ]
  },
  {
   "cell_type": "code",
   "execution_count": null,
   "metadata": {},
   "outputs": [],
   "source": [
    "true_unitary_bank"
   ]
  },
  {
   "cell_type": "code",
   "execution_count": null,
   "metadata": {},
   "outputs": [],
   "source": [
    "pure_unitary_set"
   ]
  },
  {
   "cell_type": "code",
   "execution_count": null,
   "metadata": {},
   "outputs": [],
   "source": []
  }
 ],
 "metadata": {
  "kernelspec": {
   "display_name": "Python 3",
   "language": "python",
   "name": "python3"
  },
  "language_info": {
   "codemirror_mode": {
    "name": "ipython",
    "version": 3
   },
   "file_extension": ".py",
   "mimetype": "text/x-python",
   "name": "python",
   "nbconvert_exporter": "python",
   "pygments_lexer": "ipython3",
   "version": "3.8.5"
  }
 },
 "nbformat": 4,
 "nbformat_minor": 4
}
